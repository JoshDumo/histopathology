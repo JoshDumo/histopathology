{
  "nbformat": 4,
  "nbformat_minor": 0,
  "metadata": {
    "accelerator": "GPU",
    "colab": {
      "name": "Onco-1",
      "provenance": [],
      "authorship_tag": "ABX9TyONq8SHIEh7hIwiN9zb1l7a",
      "include_colab_link": true
    },
    "kernelspec": {
      "display_name": "Python 3",
      "name": "python3"
    },
    "widgets": {
      "application/vnd.jupyter.widget-state+json": {
        "f7a8b315383d435d8a140366dd4167eb": {
          "model_module": "@jupyter-widgets/controls",
          "model_name": "HBoxModel",
          "state": {
            "_view_name": "HBoxView",
            "_dom_classes": [],
            "_model_name": "HBoxModel",
            "_view_module": "@jupyter-widgets/controls",
            "_model_module_version": "1.5.0",
            "_view_count": null,
            "_view_module_version": "1.5.0",
            "box_style": "",
            "layout": "IPY_MODEL_4658792155ee4b5fad21de5928f47079",
            "_model_module": "@jupyter-widgets/controls",
            "children": [
              "IPY_MODEL_1ab975747a6e467da5d17eaa3b3a3636",
              "IPY_MODEL_0f9af26159ba4969bdfe81350ddc1b21"
            ]
          }
        },
        "4658792155ee4b5fad21de5928f47079": {
          "model_module": "@jupyter-widgets/base",
          "model_name": "LayoutModel",
          "state": {
            "_view_name": "LayoutView",
            "grid_template_rows": null,
            "right": null,
            "justify_content": null,
            "_view_module": "@jupyter-widgets/base",
            "overflow": null,
            "_model_module_version": "1.2.0",
            "_view_count": null,
            "flex_flow": null,
            "width": null,
            "min_width": null,
            "border": null,
            "align_items": null,
            "bottom": null,
            "_model_module": "@jupyter-widgets/base",
            "top": null,
            "grid_column": null,
            "overflow_y": null,
            "overflow_x": null,
            "grid_auto_flow": null,
            "grid_area": null,
            "grid_template_columns": null,
            "flex": null,
            "_model_name": "LayoutModel",
            "justify_items": null,
            "grid_row": null,
            "max_height": null,
            "align_content": null,
            "visibility": null,
            "align_self": null,
            "height": null,
            "min_height": null,
            "padding": null,
            "grid_auto_rows": null,
            "grid_gap": null,
            "max_width": null,
            "order": null,
            "_view_module_version": "1.2.0",
            "grid_template_areas": null,
            "object_position": null,
            "object_fit": null,
            "grid_auto_columns": null,
            "margin": null,
            "display": null,
            "left": null
          }
        },
        "1ab975747a6e467da5d17eaa3b3a3636": {
          "model_module": "@jupyter-widgets/controls",
          "model_name": "FloatProgressModel",
          "state": {
            "_view_name": "ProgressView",
            "style": "IPY_MODEL_e379eb6734f1470a848b81e67420fa04",
            "_dom_classes": [],
            "description": "Dl Completed...: 100%",
            "_model_name": "FloatProgressModel",
            "bar_style": "success",
            "max": 1,
            "_view_module": "@jupyter-widgets/controls",
            "_model_module_version": "1.5.0",
            "value": 1,
            "_view_count": null,
            "_view_module_version": "1.5.0",
            "orientation": "horizontal",
            "min": 0,
            "description_tooltip": null,
            "_model_module": "@jupyter-widgets/controls",
            "layout": "IPY_MODEL_aa10be9fc1e84578a8e7b626e8396e4b"
          }
        },
        "0f9af26159ba4969bdfe81350ddc1b21": {
          "model_module": "@jupyter-widgets/controls",
          "model_name": "HTMLModel",
          "state": {
            "_view_name": "HTMLView",
            "style": "IPY_MODEL_b1cbe547783a461580cf2fa9aae0a3e5",
            "_dom_classes": [],
            "description": "",
            "_model_name": "HTMLModel",
            "placeholder": "​",
            "_view_module": "@jupyter-widgets/controls",
            "_model_module_version": "1.5.0",
            "value": " 1/1 [00:28&lt;00:00, 28.24s/ url]",
            "_view_count": null,
            "_view_module_version": "1.5.0",
            "description_tooltip": null,
            "_model_module": "@jupyter-widgets/controls",
            "layout": "IPY_MODEL_276b3d15d06a42edbf07e7b324925a2c"
          }
        },
        "e379eb6734f1470a848b81e67420fa04": {
          "model_module": "@jupyter-widgets/controls",
          "model_name": "ProgressStyleModel",
          "state": {
            "_view_name": "StyleView",
            "_model_name": "ProgressStyleModel",
            "description_width": "initial",
            "_view_module": "@jupyter-widgets/base",
            "_model_module_version": "1.5.0",
            "_view_count": null,
            "_view_module_version": "1.2.0",
            "bar_color": null,
            "_model_module": "@jupyter-widgets/controls"
          }
        },
        "aa10be9fc1e84578a8e7b626e8396e4b": {
          "model_module": "@jupyter-widgets/base",
          "model_name": "LayoutModel",
          "state": {
            "_view_name": "LayoutView",
            "grid_template_rows": null,
            "right": null,
            "justify_content": null,
            "_view_module": "@jupyter-widgets/base",
            "overflow": null,
            "_model_module_version": "1.2.0",
            "_view_count": null,
            "flex_flow": null,
            "width": null,
            "min_width": null,
            "border": null,
            "align_items": null,
            "bottom": null,
            "_model_module": "@jupyter-widgets/base",
            "top": null,
            "grid_column": null,
            "overflow_y": null,
            "overflow_x": null,
            "grid_auto_flow": null,
            "grid_area": null,
            "grid_template_columns": null,
            "flex": null,
            "_model_name": "LayoutModel",
            "justify_items": null,
            "grid_row": null,
            "max_height": null,
            "align_content": null,
            "visibility": null,
            "align_self": null,
            "height": null,
            "min_height": null,
            "padding": null,
            "grid_auto_rows": null,
            "grid_gap": null,
            "max_width": null,
            "order": null,
            "_view_module_version": "1.2.0",
            "grid_template_areas": null,
            "object_position": null,
            "object_fit": null,
            "grid_auto_columns": null,
            "margin": null,
            "display": null,
            "left": null
          }
        },
        "b1cbe547783a461580cf2fa9aae0a3e5": {
          "model_module": "@jupyter-widgets/controls",
          "model_name": "DescriptionStyleModel",
          "state": {
            "_view_name": "StyleView",
            "_model_name": "DescriptionStyleModel",
            "description_width": "",
            "_view_module": "@jupyter-widgets/base",
            "_model_module_version": "1.5.0",
            "_view_count": null,
            "_view_module_version": "1.2.0",
            "_model_module": "@jupyter-widgets/controls"
          }
        },
        "276b3d15d06a42edbf07e7b324925a2c": {
          "model_module": "@jupyter-widgets/base",
          "model_name": "LayoutModel",
          "state": {
            "_view_name": "LayoutView",
            "grid_template_rows": null,
            "right": null,
            "justify_content": null,
            "_view_module": "@jupyter-widgets/base",
            "overflow": null,
            "_model_module_version": "1.2.0",
            "_view_count": null,
            "flex_flow": null,
            "width": null,
            "min_width": null,
            "border": null,
            "align_items": null,
            "bottom": null,
            "_model_module": "@jupyter-widgets/base",
            "top": null,
            "grid_column": null,
            "overflow_y": null,
            "overflow_x": null,
            "grid_auto_flow": null,
            "grid_area": null,
            "grid_template_columns": null,
            "flex": null,
            "_model_name": "LayoutModel",
            "justify_items": null,
            "grid_row": null,
            "max_height": null,
            "align_content": null,
            "visibility": null,
            "align_self": null,
            "height": null,
            "min_height": null,
            "padding": null,
            "grid_auto_rows": null,
            "grid_gap": null,
            "max_width": null,
            "order": null,
            "_view_module_version": "1.2.0",
            "grid_template_areas": null,
            "object_position": null,
            "object_fit": null,
            "grid_auto_columns": null,
            "margin": null,
            "display": null,
            "left": null
          }
        },
        "798d9a0dec994b5bad6e57a1da1f5549": {
          "model_module": "@jupyter-widgets/controls",
          "model_name": "HBoxModel",
          "state": {
            "_view_name": "HBoxView",
            "_dom_classes": [],
            "_model_name": "HBoxModel",
            "_view_module": "@jupyter-widgets/controls",
            "_model_module_version": "1.5.0",
            "_view_count": null,
            "_view_module_version": "1.5.0",
            "box_style": "",
            "layout": "IPY_MODEL_1c9192ff186a4766ad4c9535f24bf274",
            "_model_module": "@jupyter-widgets/controls",
            "children": [
              "IPY_MODEL_9962fa0048b44e1fb4b50720e6a7221d",
              "IPY_MODEL_821ec94114aa491e8c932df78129c904"
            ]
          }
        },
        "1c9192ff186a4766ad4c9535f24bf274": {
          "model_module": "@jupyter-widgets/base",
          "model_name": "LayoutModel",
          "state": {
            "_view_name": "LayoutView",
            "grid_template_rows": null,
            "right": null,
            "justify_content": null,
            "_view_module": "@jupyter-widgets/base",
            "overflow": null,
            "_model_module_version": "1.2.0",
            "_view_count": null,
            "flex_flow": null,
            "width": null,
            "min_width": null,
            "border": null,
            "align_items": null,
            "bottom": null,
            "_model_module": "@jupyter-widgets/base",
            "top": null,
            "grid_column": null,
            "overflow_y": null,
            "overflow_x": null,
            "grid_auto_flow": null,
            "grid_area": null,
            "grid_template_columns": null,
            "flex": null,
            "_model_name": "LayoutModel",
            "justify_items": null,
            "grid_row": null,
            "max_height": null,
            "align_content": null,
            "visibility": null,
            "align_self": null,
            "height": null,
            "min_height": null,
            "padding": null,
            "grid_auto_rows": null,
            "grid_gap": null,
            "max_width": null,
            "order": null,
            "_view_module_version": "1.2.0",
            "grid_template_areas": null,
            "object_position": null,
            "object_fit": null,
            "grid_auto_columns": null,
            "margin": null,
            "display": null,
            "left": null
          }
        },
        "9962fa0048b44e1fb4b50720e6a7221d": {
          "model_module": "@jupyter-widgets/controls",
          "model_name": "FloatProgressModel",
          "state": {
            "_view_name": "ProgressView",
            "style": "IPY_MODEL_55290bca8fb54783994364680eb65406",
            "_dom_classes": [],
            "description": "Dl Size...: 100%",
            "_model_name": "FloatProgressModel",
            "bar_style": "success",
            "max": 1,
            "_view_module": "@jupyter-widgets/controls",
            "_model_module_version": "1.5.0",
            "value": 1,
            "_view_count": null,
            "_view_module_version": "1.5.0",
            "orientation": "horizontal",
            "min": 0,
            "description_tooltip": null,
            "_model_module": "@jupyter-widgets/controls",
            "layout": "IPY_MODEL_42823c8d13b54b49a95019d86217d181"
          }
        },
        "821ec94114aa491e8c932df78129c904": {
          "model_module": "@jupyter-widgets/controls",
          "model_name": "HTMLModel",
          "state": {
            "_view_name": "HTMLView",
            "style": "IPY_MODEL_cf5954d3a92949cd88b304df6b9d7730",
            "_dom_classes": [],
            "description": "",
            "_model_name": "HTMLModel",
            "placeholder": "​",
            "_view_module": "@jupyter-widgets/controls",
            "_model_module_version": "1.5.0",
            "value": " 246/246 [00:28&lt;00:00,  8.72 MiB/s]",
            "_view_count": null,
            "_view_module_version": "1.5.0",
            "description_tooltip": null,
            "_model_module": "@jupyter-widgets/controls",
            "layout": "IPY_MODEL_e33e62179d37467d8510a58f9003685c"
          }
        },
        "55290bca8fb54783994364680eb65406": {
          "model_module": "@jupyter-widgets/controls",
          "model_name": "ProgressStyleModel",
          "state": {
            "_view_name": "StyleView",
            "_model_name": "ProgressStyleModel",
            "description_width": "initial",
            "_view_module": "@jupyter-widgets/base",
            "_model_module_version": "1.5.0",
            "_view_count": null,
            "_view_module_version": "1.2.0",
            "bar_color": null,
            "_model_module": "@jupyter-widgets/controls"
          }
        },
        "42823c8d13b54b49a95019d86217d181": {
          "model_module": "@jupyter-widgets/base",
          "model_name": "LayoutModel",
          "state": {
            "_view_name": "LayoutView",
            "grid_template_rows": null,
            "right": null,
            "justify_content": null,
            "_view_module": "@jupyter-widgets/base",
            "overflow": null,
            "_model_module_version": "1.2.0",
            "_view_count": null,
            "flex_flow": null,
            "width": null,
            "min_width": null,
            "border": null,
            "align_items": null,
            "bottom": null,
            "_model_module": "@jupyter-widgets/base",
            "top": null,
            "grid_column": null,
            "overflow_y": null,
            "overflow_x": null,
            "grid_auto_flow": null,
            "grid_area": null,
            "grid_template_columns": null,
            "flex": null,
            "_model_name": "LayoutModel",
            "justify_items": null,
            "grid_row": null,
            "max_height": null,
            "align_content": null,
            "visibility": null,
            "align_self": null,
            "height": null,
            "min_height": null,
            "padding": null,
            "grid_auto_rows": null,
            "grid_gap": null,
            "max_width": null,
            "order": null,
            "_view_module_version": "1.2.0",
            "grid_template_areas": null,
            "object_position": null,
            "object_fit": null,
            "grid_auto_columns": null,
            "margin": null,
            "display": null,
            "left": null
          }
        },
        "cf5954d3a92949cd88b304df6b9d7730": {
          "model_module": "@jupyter-widgets/controls",
          "model_name": "DescriptionStyleModel",
          "state": {
            "_view_name": "StyleView",
            "_model_name": "DescriptionStyleModel",
            "description_width": "",
            "_view_module": "@jupyter-widgets/base",
            "_model_module_version": "1.5.0",
            "_view_count": null,
            "_view_module_version": "1.2.0",
            "_model_module": "@jupyter-widgets/controls"
          }
        },
        "e33e62179d37467d8510a58f9003685c": {
          "model_module": "@jupyter-widgets/base",
          "model_name": "LayoutModel",
          "state": {
            "_view_name": "LayoutView",
            "grid_template_rows": null,
            "right": null,
            "justify_content": null,
            "_view_module": "@jupyter-widgets/base",
            "overflow": null,
            "_model_module_version": "1.2.0",
            "_view_count": null,
            "flex_flow": null,
            "width": null,
            "min_width": null,
            "border": null,
            "align_items": null,
            "bottom": null,
            "_model_module": "@jupyter-widgets/base",
            "top": null,
            "grid_column": null,
            "overflow_y": null,
            "overflow_x": null,
            "grid_auto_flow": null,
            "grid_area": null,
            "grid_template_columns": null,
            "flex": null,
            "_model_name": "LayoutModel",
            "justify_items": null,
            "grid_row": null,
            "max_height": null,
            "align_content": null,
            "visibility": null,
            "align_self": null,
            "height": null,
            "min_height": null,
            "padding": null,
            "grid_auto_rows": null,
            "grid_gap": null,
            "max_width": null,
            "order": null,
            "_view_module_version": "1.2.0",
            "grid_template_areas": null,
            "object_position": null,
            "object_fit": null,
            "grid_auto_columns": null,
            "margin": null,
            "display": null,
            "left": null
          }
        },
        "3107ea8d7f684ca986fb88bc29af1eeb": {
          "model_module": "@jupyter-widgets/controls",
          "model_name": "HBoxModel",
          "state": {
            "_view_name": "HBoxView",
            "_dom_classes": [],
            "_model_name": "HBoxModel",
            "_view_module": "@jupyter-widgets/controls",
            "_model_module_version": "1.5.0",
            "_view_count": null,
            "_view_module_version": "1.5.0",
            "box_style": "",
            "layout": "IPY_MODEL_5dea0a685836408b977f5333816e468e",
            "_model_module": "@jupyter-widgets/controls",
            "children": [
              "IPY_MODEL_d4978b75c5634e678421d6e348bc089a",
              "IPY_MODEL_6714b51afd764f5da0397c5c1484da03"
            ]
          }
        },
        "5dea0a685836408b977f5333816e468e": {
          "model_module": "@jupyter-widgets/base",
          "model_name": "LayoutModel",
          "state": {
            "_view_name": "LayoutView",
            "grid_template_rows": null,
            "right": null,
            "justify_content": null,
            "_view_module": "@jupyter-widgets/base",
            "overflow": null,
            "_model_module_version": "1.2.0",
            "_view_count": null,
            "flex_flow": null,
            "width": null,
            "min_width": null,
            "border": null,
            "align_items": null,
            "bottom": null,
            "_model_module": "@jupyter-widgets/base",
            "top": null,
            "grid_column": null,
            "overflow_y": null,
            "overflow_x": null,
            "grid_auto_flow": null,
            "grid_area": null,
            "grid_template_columns": null,
            "flex": null,
            "_model_name": "LayoutModel",
            "justify_items": null,
            "grid_row": null,
            "max_height": null,
            "align_content": null,
            "visibility": null,
            "align_self": null,
            "height": null,
            "min_height": null,
            "padding": null,
            "grid_auto_rows": null,
            "grid_gap": null,
            "max_width": null,
            "order": null,
            "_view_module_version": "1.2.0",
            "grid_template_areas": null,
            "object_position": null,
            "object_fit": null,
            "grid_auto_columns": null,
            "margin": null,
            "display": null,
            "left": null
          }
        },
        "d4978b75c5634e678421d6e348bc089a": {
          "model_module": "@jupyter-widgets/controls",
          "model_name": "FloatProgressModel",
          "state": {
            "_view_name": "ProgressView",
            "style": "IPY_MODEL_497a0eb007444b04a3438cbd47d9df29",
            "_dom_classes": [],
            "description": "Extraction completed...: 100%",
            "_model_name": "FloatProgressModel",
            "bar_style": "success",
            "max": 1,
            "_view_module": "@jupyter-widgets/controls",
            "_model_module_version": "1.5.0",
            "value": 1,
            "_view_count": null,
            "_view_module_version": "1.5.0",
            "orientation": "horizontal",
            "min": 0,
            "description_tooltip": null,
            "_model_module": "@jupyter-widgets/controls",
            "layout": "IPY_MODEL_02d8b01797b2495bbe0727942eeca98c"
          }
        },
        "6714b51afd764f5da0397c5c1484da03": {
          "model_module": "@jupyter-widgets/controls",
          "model_name": "HTMLModel",
          "state": {
            "_view_name": "HTMLView",
            "style": "IPY_MODEL_33e5824d448b412ca2da924e08b2ec06",
            "_dom_classes": [],
            "description": "",
            "_model_name": "HTMLModel",
            "placeholder": "​",
            "_view_module": "@jupyter-widgets/controls",
            "_model_module_version": "1.5.0",
            "value": " 1/1 [00:28&lt;00:00, 28.17s/ file]",
            "_view_count": null,
            "_view_module_version": "1.5.0",
            "description_tooltip": null,
            "_model_module": "@jupyter-widgets/controls",
            "layout": "IPY_MODEL_8dc540d981484decbb8cfb1baad41781"
          }
        },
        "497a0eb007444b04a3438cbd47d9df29": {
          "model_module": "@jupyter-widgets/controls",
          "model_name": "ProgressStyleModel",
          "state": {
            "_view_name": "StyleView",
            "_model_name": "ProgressStyleModel",
            "description_width": "initial",
            "_view_module": "@jupyter-widgets/base",
            "_model_module_version": "1.5.0",
            "_view_count": null,
            "_view_module_version": "1.2.0",
            "bar_color": null,
            "_model_module": "@jupyter-widgets/controls"
          }
        },
        "02d8b01797b2495bbe0727942eeca98c": {
          "model_module": "@jupyter-widgets/base",
          "model_name": "LayoutModel",
          "state": {
            "_view_name": "LayoutView",
            "grid_template_rows": null,
            "right": null,
            "justify_content": null,
            "_view_module": "@jupyter-widgets/base",
            "overflow": null,
            "_model_module_version": "1.2.0",
            "_view_count": null,
            "flex_flow": null,
            "width": null,
            "min_width": null,
            "border": null,
            "align_items": null,
            "bottom": null,
            "_model_module": "@jupyter-widgets/base",
            "top": null,
            "grid_column": null,
            "overflow_y": null,
            "overflow_x": null,
            "grid_auto_flow": null,
            "grid_area": null,
            "grid_template_columns": null,
            "flex": null,
            "_model_name": "LayoutModel",
            "justify_items": null,
            "grid_row": null,
            "max_height": null,
            "align_content": null,
            "visibility": null,
            "align_self": null,
            "height": null,
            "min_height": null,
            "padding": null,
            "grid_auto_rows": null,
            "grid_gap": null,
            "max_width": null,
            "order": null,
            "_view_module_version": "1.2.0",
            "grid_template_areas": null,
            "object_position": null,
            "object_fit": null,
            "grid_auto_columns": null,
            "margin": null,
            "display": null,
            "left": null
          }
        },
        "33e5824d448b412ca2da924e08b2ec06": {
          "model_module": "@jupyter-widgets/controls",
          "model_name": "DescriptionStyleModel",
          "state": {
            "_view_name": "StyleView",
            "_model_name": "DescriptionStyleModel",
            "description_width": "",
            "_view_module": "@jupyter-widgets/base",
            "_model_module_version": "1.5.0",
            "_view_count": null,
            "_view_module_version": "1.2.0",
            "_model_module": "@jupyter-widgets/controls"
          }
        },
        "8dc540d981484decbb8cfb1baad41781": {
          "model_module": "@jupyter-widgets/base",
          "model_name": "LayoutModel",
          "state": {
            "_view_name": "LayoutView",
            "grid_template_rows": null,
            "right": null,
            "justify_content": null,
            "_view_module": "@jupyter-widgets/base",
            "overflow": null,
            "_model_module_version": "1.2.0",
            "_view_count": null,
            "flex_flow": null,
            "width": null,
            "min_width": null,
            "border": null,
            "align_items": null,
            "bottom": null,
            "_model_module": "@jupyter-widgets/base",
            "top": null,
            "grid_column": null,
            "overflow_y": null,
            "overflow_x": null,
            "grid_auto_flow": null,
            "grid_area": null,
            "grid_template_columns": null,
            "flex": null,
            "_model_name": "LayoutModel",
            "justify_items": null,
            "grid_row": null,
            "max_height": null,
            "align_content": null,
            "visibility": null,
            "align_self": null,
            "height": null,
            "min_height": null,
            "padding": null,
            "grid_auto_rows": null,
            "grid_gap": null,
            "max_width": null,
            "order": null,
            "_view_module_version": "1.2.0",
            "grid_template_areas": null,
            "object_position": null,
            "object_fit": null,
            "grid_auto_columns": null,
            "margin": null,
            "display": null,
            "left": null
          }
        },
        "17d51de8eaea4dce838fd167d100e86c": {
          "model_module": "@jupyter-widgets/controls",
          "model_name": "HBoxModel",
          "state": {
            "_view_name": "HBoxView",
            "_dom_classes": [],
            "_model_name": "HBoxModel",
            "_view_module": "@jupyter-widgets/controls",
            "_model_module_version": "1.5.0",
            "_view_count": null,
            "_view_module_version": "1.5.0",
            "box_style": "",
            "layout": "IPY_MODEL_a62279bf53104aa58d1b01b9ef43851b",
            "_model_module": "@jupyter-widgets/controls",
            "children": [
              "IPY_MODEL_e1bc2c92845e48ea8d337731fd7c915a",
              "IPY_MODEL_b2de35c477ad421f98f29b38b4a9c0b8"
            ]
          }
        },
        "a62279bf53104aa58d1b01b9ef43851b": {
          "model_module": "@jupyter-widgets/base",
          "model_name": "LayoutModel",
          "state": {
            "_view_name": "LayoutView",
            "grid_template_rows": null,
            "right": null,
            "justify_content": null,
            "_view_module": "@jupyter-widgets/base",
            "overflow": null,
            "_model_module_version": "1.2.0",
            "_view_count": null,
            "flex_flow": null,
            "width": null,
            "min_width": null,
            "border": null,
            "align_items": null,
            "bottom": null,
            "_model_module": "@jupyter-widgets/base",
            "top": null,
            "grid_column": null,
            "overflow_y": null,
            "overflow_x": null,
            "grid_auto_flow": null,
            "grid_area": null,
            "grid_template_columns": null,
            "flex": null,
            "_model_name": "LayoutModel",
            "justify_items": null,
            "grid_row": null,
            "max_height": null,
            "align_content": null,
            "visibility": null,
            "align_self": null,
            "height": null,
            "min_height": null,
            "padding": null,
            "grid_auto_rows": null,
            "grid_gap": null,
            "max_width": null,
            "order": null,
            "_view_module_version": "1.2.0",
            "grid_template_areas": null,
            "object_position": null,
            "object_fit": null,
            "grid_auto_columns": null,
            "margin": null,
            "display": null,
            "left": null
          }
        },
        "e1bc2c92845e48ea8d337731fd7c915a": {
          "model_module": "@jupyter-widgets/controls",
          "model_name": "FloatProgressModel",
          "state": {
            "_view_name": "ProgressView",
            "style": "IPY_MODEL_cffca2e79575477cb5977058c72f7d4d",
            "_dom_classes": [],
            "description": "",
            "_model_name": "FloatProgressModel",
            "bar_style": "info",
            "max": 1,
            "_view_module": "@jupyter-widgets/controls",
            "_model_module_version": "1.5.0",
            "value": 1,
            "_view_count": null,
            "_view_module_version": "1.5.0",
            "orientation": "horizontal",
            "min": 0,
            "description_tooltip": null,
            "_model_module": "@jupyter-widgets/controls",
            "layout": "IPY_MODEL_0b3f1b401fde408daa04f5fbf4760a3c"
          }
        },
        "b2de35c477ad421f98f29b38b4a9c0b8": {
          "model_module": "@jupyter-widgets/controls",
          "model_name": "HTMLModel",
          "state": {
            "_view_name": "HTMLView",
            "style": "IPY_MODEL_2850e3e46dca4949955caedc492988e8",
            "_dom_classes": [],
            "description": "",
            "_model_name": "HTMLModel",
            "placeholder": "​",
            "_view_module": "@jupyter-widgets/controls",
            "_model_module_version": "1.5.0",
            "value": " 5000/0 [00:47&lt;00:00, 152.51 examples/s]",
            "_view_count": null,
            "_view_module_version": "1.5.0",
            "description_tooltip": null,
            "_model_module": "@jupyter-widgets/controls",
            "layout": "IPY_MODEL_6d49f0052d64471aae27274282698995"
          }
        },
        "cffca2e79575477cb5977058c72f7d4d": {
          "model_module": "@jupyter-widgets/controls",
          "model_name": "ProgressStyleModel",
          "state": {
            "_view_name": "StyleView",
            "_model_name": "ProgressStyleModel",
            "description_width": "initial",
            "_view_module": "@jupyter-widgets/base",
            "_model_module_version": "1.5.0",
            "_view_count": null,
            "_view_module_version": "1.2.0",
            "bar_color": null,
            "_model_module": "@jupyter-widgets/controls"
          }
        },
        "0b3f1b401fde408daa04f5fbf4760a3c": {
          "model_module": "@jupyter-widgets/base",
          "model_name": "LayoutModel",
          "state": {
            "_view_name": "LayoutView",
            "grid_template_rows": null,
            "right": null,
            "justify_content": null,
            "_view_module": "@jupyter-widgets/base",
            "overflow": null,
            "_model_module_version": "1.2.0",
            "_view_count": null,
            "flex_flow": null,
            "width": null,
            "min_width": null,
            "border": null,
            "align_items": null,
            "bottom": null,
            "_model_module": "@jupyter-widgets/base",
            "top": null,
            "grid_column": null,
            "overflow_y": null,
            "overflow_x": null,
            "grid_auto_flow": null,
            "grid_area": null,
            "grid_template_columns": null,
            "flex": null,
            "_model_name": "LayoutModel",
            "justify_items": null,
            "grid_row": null,
            "max_height": null,
            "align_content": null,
            "visibility": null,
            "align_self": null,
            "height": null,
            "min_height": null,
            "padding": null,
            "grid_auto_rows": null,
            "grid_gap": null,
            "max_width": null,
            "order": null,
            "_view_module_version": "1.2.0",
            "grid_template_areas": null,
            "object_position": null,
            "object_fit": null,
            "grid_auto_columns": null,
            "margin": null,
            "display": null,
            "left": null
          }
        },
        "2850e3e46dca4949955caedc492988e8": {
          "model_module": "@jupyter-widgets/controls",
          "model_name": "DescriptionStyleModel",
          "state": {
            "_view_name": "StyleView",
            "_model_name": "DescriptionStyleModel",
            "description_width": "",
            "_view_module": "@jupyter-widgets/base",
            "_model_module_version": "1.5.0",
            "_view_count": null,
            "_view_module_version": "1.2.0",
            "_model_module": "@jupyter-widgets/controls"
          }
        },
        "6d49f0052d64471aae27274282698995": {
          "model_module": "@jupyter-widgets/base",
          "model_name": "LayoutModel",
          "state": {
            "_view_name": "LayoutView",
            "grid_template_rows": null,
            "right": null,
            "justify_content": null,
            "_view_module": "@jupyter-widgets/base",
            "overflow": null,
            "_model_module_version": "1.2.0",
            "_view_count": null,
            "flex_flow": null,
            "width": null,
            "min_width": null,
            "border": null,
            "align_items": null,
            "bottom": null,
            "_model_module": "@jupyter-widgets/base",
            "top": null,
            "grid_column": null,
            "overflow_y": null,
            "overflow_x": null,
            "grid_auto_flow": null,
            "grid_area": null,
            "grid_template_columns": null,
            "flex": null,
            "_model_name": "LayoutModel",
            "justify_items": null,
            "grid_row": null,
            "max_height": null,
            "align_content": null,
            "visibility": null,
            "align_self": null,
            "height": null,
            "min_height": null,
            "padding": null,
            "grid_auto_rows": null,
            "grid_gap": null,
            "max_width": null,
            "order": null,
            "_view_module_version": "1.2.0",
            "grid_template_areas": null,
            "object_position": null,
            "object_fit": null,
            "grid_auto_columns": null,
            "margin": null,
            "display": null,
            "left": null
          }
        },
        "c6b688fcb69040ba9112403ecfdc5305": {
          "model_module": "@jupyter-widgets/controls",
          "model_name": "HBoxModel",
          "state": {
            "_view_name": "HBoxView",
            "_dom_classes": [],
            "_model_name": "HBoxModel",
            "_view_module": "@jupyter-widgets/controls",
            "_model_module_version": "1.5.0",
            "_view_count": null,
            "_view_module_version": "1.5.0",
            "box_style": "",
            "layout": "IPY_MODEL_9e2fa489ee0c4c59a0ef8589c4ecf19a",
            "_model_module": "@jupyter-widgets/controls",
            "children": [
              "IPY_MODEL_49da6c86d80e4078943d216dc6009784",
              "IPY_MODEL_f8636a3a45114a5d996d645011048a6a"
            ]
          }
        },
        "9e2fa489ee0c4c59a0ef8589c4ecf19a": {
          "model_module": "@jupyter-widgets/base",
          "model_name": "LayoutModel",
          "state": {
            "_view_name": "LayoutView",
            "grid_template_rows": null,
            "right": null,
            "justify_content": null,
            "_view_module": "@jupyter-widgets/base",
            "overflow": null,
            "_model_module_version": "1.2.0",
            "_view_count": null,
            "flex_flow": null,
            "width": null,
            "min_width": null,
            "border": null,
            "align_items": null,
            "bottom": null,
            "_model_module": "@jupyter-widgets/base",
            "top": null,
            "grid_column": null,
            "overflow_y": null,
            "overflow_x": null,
            "grid_auto_flow": null,
            "grid_area": null,
            "grid_template_columns": null,
            "flex": null,
            "_model_name": "LayoutModel",
            "justify_items": null,
            "grid_row": null,
            "max_height": null,
            "align_content": null,
            "visibility": null,
            "align_self": null,
            "height": null,
            "min_height": null,
            "padding": null,
            "grid_auto_rows": null,
            "grid_gap": null,
            "max_width": null,
            "order": null,
            "_view_module_version": "1.2.0",
            "grid_template_areas": null,
            "object_position": null,
            "object_fit": null,
            "grid_auto_columns": null,
            "margin": null,
            "display": null,
            "left": null
          }
        },
        "49da6c86d80e4078943d216dc6009784": {
          "model_module": "@jupyter-widgets/controls",
          "model_name": "FloatProgressModel",
          "state": {
            "_view_name": "ProgressView",
            "style": "IPY_MODEL_e4f928c230c0448f91118a8e51fc405d",
            "_dom_classes": [],
            "description": " 88%",
            "_model_name": "FloatProgressModel",
            "bar_style": "danger",
            "max": 5000,
            "_view_module": "@jupyter-widgets/controls",
            "_model_module_version": "1.5.0",
            "value": 4377,
            "_view_count": null,
            "_view_module_version": "1.5.0",
            "orientation": "horizontal",
            "min": 0,
            "description_tooltip": null,
            "_model_module": "@jupyter-widgets/controls",
            "layout": "IPY_MODEL_cd4370a2cd284fa984a9c4402a34c855"
          }
        },
        "f8636a3a45114a5d996d645011048a6a": {
          "model_module": "@jupyter-widgets/controls",
          "model_name": "HTMLModel",
          "state": {
            "_view_name": "HTMLView",
            "style": "IPY_MODEL_f5bedf37be6f453a9b7c850766edf61c",
            "_dom_classes": [],
            "description": "",
            "_model_name": "HTMLModel",
            "placeholder": "​",
            "_view_module": "@jupyter-widgets/controls",
            "_model_module_version": "1.5.0",
            "value": " 4377/5000 [00:00&lt;00:00, 20685.69 examples/s]",
            "_view_count": null,
            "_view_module_version": "1.5.0",
            "description_tooltip": null,
            "_model_module": "@jupyter-widgets/controls",
            "layout": "IPY_MODEL_2d7b04a510994d84a542129a3bf52525"
          }
        },
        "e4f928c230c0448f91118a8e51fc405d": {
          "model_module": "@jupyter-widgets/controls",
          "model_name": "ProgressStyleModel",
          "state": {
            "_view_name": "StyleView",
            "_model_name": "ProgressStyleModel",
            "description_width": "initial",
            "_view_module": "@jupyter-widgets/base",
            "_model_module_version": "1.5.0",
            "_view_count": null,
            "_view_module_version": "1.2.0",
            "bar_color": null,
            "_model_module": "@jupyter-widgets/controls"
          }
        },
        "cd4370a2cd284fa984a9c4402a34c855": {
          "model_module": "@jupyter-widgets/base",
          "model_name": "LayoutModel",
          "state": {
            "_view_name": "LayoutView",
            "grid_template_rows": null,
            "right": null,
            "justify_content": null,
            "_view_module": "@jupyter-widgets/base",
            "overflow": null,
            "_model_module_version": "1.2.0",
            "_view_count": null,
            "flex_flow": null,
            "width": null,
            "min_width": null,
            "border": null,
            "align_items": null,
            "bottom": null,
            "_model_module": "@jupyter-widgets/base",
            "top": null,
            "grid_column": null,
            "overflow_y": null,
            "overflow_x": null,
            "grid_auto_flow": null,
            "grid_area": null,
            "grid_template_columns": null,
            "flex": null,
            "_model_name": "LayoutModel",
            "justify_items": null,
            "grid_row": null,
            "max_height": null,
            "align_content": null,
            "visibility": null,
            "align_self": null,
            "height": null,
            "min_height": null,
            "padding": null,
            "grid_auto_rows": null,
            "grid_gap": null,
            "max_width": null,
            "order": null,
            "_view_module_version": "1.2.0",
            "grid_template_areas": null,
            "object_position": null,
            "object_fit": null,
            "grid_auto_columns": null,
            "margin": null,
            "display": null,
            "left": null
          }
        },
        "f5bedf37be6f453a9b7c850766edf61c": {
          "model_module": "@jupyter-widgets/controls",
          "model_name": "DescriptionStyleModel",
          "state": {
            "_view_name": "StyleView",
            "_model_name": "DescriptionStyleModel",
            "description_width": "",
            "_view_module": "@jupyter-widgets/base",
            "_model_module_version": "1.5.0",
            "_view_count": null,
            "_view_module_version": "1.2.0",
            "_model_module": "@jupyter-widgets/controls"
          }
        },
        "2d7b04a510994d84a542129a3bf52525": {
          "model_module": "@jupyter-widgets/base",
          "model_name": "LayoutModel",
          "state": {
            "_view_name": "LayoutView",
            "grid_template_rows": null,
            "right": null,
            "justify_content": null,
            "_view_module": "@jupyter-widgets/base",
            "overflow": null,
            "_model_module_version": "1.2.0",
            "_view_count": null,
            "flex_flow": null,
            "width": null,
            "min_width": null,
            "border": null,
            "align_items": null,
            "bottom": null,
            "_model_module": "@jupyter-widgets/base",
            "top": null,
            "grid_column": null,
            "overflow_y": null,
            "overflow_x": null,
            "grid_auto_flow": null,
            "grid_area": null,
            "grid_template_columns": null,
            "flex": null,
            "_model_name": "LayoutModel",
            "justify_items": null,
            "grid_row": null,
            "max_height": null,
            "align_content": null,
            "visibility": null,
            "align_self": null,
            "height": null,
            "min_height": null,
            "padding": null,
            "grid_auto_rows": null,
            "grid_gap": null,
            "max_width": null,
            "order": null,
            "_view_module_version": "1.2.0",
            "grid_template_areas": null,
            "object_position": null,
            "object_fit": null,
            "grid_auto_columns": null,
            "margin": null,
            "display": null,
            "left": null
          }
        }
      }
    }
  },
  "cells": [
    {
      "cell_type": "markdown",
      "metadata": {
        "id": "view-in-github",
        "colab_type": "text"
      },
      "source": [
        "<a href=\"https://colab.research.google.com/github/JoshDumo/histopathology/blob/main/Onco_1.ipynb\" target=\"_parent\"><img src=\"https://colab.research.google.com/assets/colab-badge.svg\" alt=\"Open In Colab\"/></a>"
      ]
    },
    {
      "cell_type": "code",
      "metadata": {
        "id": "lnNVLY2JSKnY"
      },
      "source": [
        ""
      ],
      "execution_count": 1,
      "outputs": []
    },
    {
      "cell_type": "code",
      "metadata": {
        "colab": {
          "base_uri": "https://localhost:8080/"
        },
        "id": "TTBSvHcSLBzc",
        "outputId": "1c7e1d2a-7edc-4a19-cf89-23f6790f3bfe"
      },
      "source": [
        "import matplotlib.pyplot as plt\n",
        "\n",
        "import tensorflow as tf\n",
        "import tensorflow_datasets as tfds\n",
        "\n",
        "from tensorflow import keras\n",
        "from tensorflow.keras import layers\n",
        "from tensorflow.keras.models import Sequential\n",
        "\n",
        "import pandas as pd\n",
        "import numpy as np\n",
        "\n",
        "import seaborn as sns\n",
        "\n",
        "from sklearn.utils import shuffle\n",
        "from sklearn.metrics import confusion_matrix\n",
        "\n",
        "print(\"\\u2022 Using TensorFlow Version:\", tf.__version__)"
      ],
      "execution_count": 2,
      "outputs": [
        {
          "output_type": "stream",
          "text": [
            "• Using TensorFlow Version: 2.4.1\n"
          ],
          "name": "stdout"
        }
      ]
    },
    {
      "cell_type": "code",
      "metadata": {
        "colab": {
          "base_uri": "https://localhost:8080/",
          "height": 591,
          "referenced_widgets": [
            "f7a8b315383d435d8a140366dd4167eb",
            "4658792155ee4b5fad21de5928f47079",
            "1ab975747a6e467da5d17eaa3b3a3636",
            "0f9af26159ba4969bdfe81350ddc1b21",
            "e379eb6734f1470a848b81e67420fa04",
            "aa10be9fc1e84578a8e7b626e8396e4b",
            "b1cbe547783a461580cf2fa9aae0a3e5",
            "276b3d15d06a42edbf07e7b324925a2c",
            "798d9a0dec994b5bad6e57a1da1f5549",
            "1c9192ff186a4766ad4c9535f24bf274",
            "9962fa0048b44e1fb4b50720e6a7221d",
            "821ec94114aa491e8c932df78129c904",
            "55290bca8fb54783994364680eb65406",
            "42823c8d13b54b49a95019d86217d181",
            "cf5954d3a92949cd88b304df6b9d7730",
            "e33e62179d37467d8510a58f9003685c",
            "3107ea8d7f684ca986fb88bc29af1eeb",
            "5dea0a685836408b977f5333816e468e",
            "d4978b75c5634e678421d6e348bc089a",
            "6714b51afd764f5da0397c5c1484da03",
            "497a0eb007444b04a3438cbd47d9df29",
            "02d8b01797b2495bbe0727942eeca98c",
            "33e5824d448b412ca2da924e08b2ec06",
            "8dc540d981484decbb8cfb1baad41781",
            "17d51de8eaea4dce838fd167d100e86c",
            "a62279bf53104aa58d1b01b9ef43851b",
            "e1bc2c92845e48ea8d337731fd7c915a",
            "b2de35c477ad421f98f29b38b4a9c0b8",
            "cffca2e79575477cb5977058c72f7d4d",
            "0b3f1b401fde408daa04f5fbf4760a3c",
            "2850e3e46dca4949955caedc492988e8",
            "6d49f0052d64471aae27274282698995",
            "c6b688fcb69040ba9112403ecfdc5305",
            "9e2fa489ee0c4c59a0ef8589c4ecf19a",
            "49da6c86d80e4078943d216dc6009784",
            "f8636a3a45114a5d996d645011048a6a",
            "e4f928c230c0448f91118a8e51fc405d",
            "cd4370a2cd284fa984a9c4402a34c855",
            "f5bedf37be6f453a9b7c850766edf61c",
            "2d7b04a510994d84a542129a3bf52525"
          ]
        },
        "id": "AAWkn0UxvhZw",
        "outputId": "45433879-f1bc-4ee7-af77-bd6bf971e5bf"
      },
      "source": [
        "# EXTRACT\n",
        "\n",
        "test_ds = tfds.load(name=\"colorectal_histology\", \n",
        "                   split=\"train[0%:10%]\",\n",
        "                   shuffle_files=True,\n",
        "                   as_supervised=True)\n",
        "\n",
        "val_ds = tfds.load(name=\"colorectal_histology\", \n",
        "                   split=\"train[10%:30%]\",\n",
        "                   shuffle_files=True,\n",
        "                   as_supervised=True)\n",
        "\n",
        "train_ds = tfds.load(name=\"colorectal_histology\", \n",
        "                     split=\"train[-70%:]\", \n",
        "                     shuffle_files=True, \n",
        "                     as_supervised=True)\n",
        "\n",
        "\n",
        "\n",
        "\n",
        "# TRANSFORM\n",
        "#train_ds.shuffle(100).batch(32).prefetch(tf.data.AUTOTUNE)\n",
        "\n",
        "# LOAD\n",
        "for data in train_ds.take(1):\n",
        "    image = data[0].numpy().squeeze()\n",
        "    label = data[1].numpy()\n",
        "    \n",
        "    print(\"Label: {}\".format(label))\n",
        "    plt.imshow(image, cmap=plt.cm.binary)\n",
        "    plt.show()\n"
      ],
      "execution_count": 3,
      "outputs": [
        {
          "output_type": "stream",
          "text": [
            "\u001b[1mDownloading and preparing dataset colorectal_histology/2.0.0 (download: 246.14 MiB, generated: Unknown size, total: 246.14 MiB) to /root/tensorflow_datasets/colorectal_histology/2.0.0...\u001b[0m\n"
          ],
          "name": "stdout"
        },
        {
          "output_type": "display_data",
          "data": {
            "application/vnd.jupyter.widget-view+json": {
              "model_id": "f7a8b315383d435d8a140366dd4167eb",
              "version_minor": 0,
              "version_major": 2
            },
            "text/plain": [
              "HBox(children=(FloatProgress(value=1.0, bar_style='info', description='Dl Completed...', max=1.0, style=Progre…"
            ]
          },
          "metadata": {
            "tags": []
          }
        },
        {
          "output_type": "display_data",
          "data": {
            "application/vnd.jupyter.widget-view+json": {
              "model_id": "798d9a0dec994b5bad6e57a1da1f5549",
              "version_minor": 0,
              "version_major": 2
            },
            "text/plain": [
              "HBox(children=(FloatProgress(value=1.0, bar_style='info', description='Dl Size...', max=1.0, style=ProgressSty…"
            ]
          },
          "metadata": {
            "tags": []
          }
        },
        {
          "output_type": "display_data",
          "data": {
            "application/vnd.jupyter.widget-view+json": {
              "model_id": "3107ea8d7f684ca986fb88bc29af1eeb",
              "version_minor": 0,
              "version_major": 2
            },
            "text/plain": [
              "HBox(children=(FloatProgress(value=1.0, bar_style='info', description='Extraction completed...', max=1.0, styl…"
            ]
          },
          "metadata": {
            "tags": []
          }
        },
        {
          "output_type": "stream",
          "text": [
            "\n",
            "\n",
            "\n",
            "\n",
            "\n",
            "\n"
          ],
          "name": "stdout"
        },
        {
          "output_type": "display_data",
          "data": {
            "application/vnd.jupyter.widget-view+json": {
              "model_id": "17d51de8eaea4dce838fd167d100e86c",
              "version_minor": 0,
              "version_major": 2
            },
            "text/plain": [
              "HBox(children=(FloatProgress(value=1.0, bar_style='info', max=1.0), HTML(value='')))"
            ]
          },
          "metadata": {
            "tags": []
          }
        },
        {
          "output_type": "stream",
          "text": [
            "\rShuffling and writing examples to /root/tensorflow_datasets/colorectal_histology/2.0.0.incompleteDKYI6R/colorectal_histology-train.tfrecord\n"
          ],
          "name": "stdout"
        },
        {
          "output_type": "display_data",
          "data": {
            "application/vnd.jupyter.widget-view+json": {
              "model_id": "c6b688fcb69040ba9112403ecfdc5305",
              "version_minor": 0,
              "version_major": 2
            },
            "text/plain": [
              "HBox(children=(FloatProgress(value=0.0, max=5000.0), HTML(value='')))"
            ]
          },
          "metadata": {
            "tags": []
          }
        },
        {
          "output_type": "stream",
          "text": [
            "\u001b[1mDataset colorectal_histology downloaded and prepared to /root/tensorflow_datasets/colorectal_histology/2.0.0. Subsequent calls will reuse this data.\u001b[0m\n",
            "\rLabel: 6\n"
          ],
          "name": "stdout"
        },
        {
          "output_type": "display_data",
          "data": {
            "image/png": "[encoded data removed]",
            "text/plain": [
              "<Figure size 432x288 with 1 Axes>"
            ]
          },
          "metadata": {
            "tags": [],
            "needs_background": "light"
          }
        }
      ]
    },
    {
      "cell_type": "code",
      "metadata": {
        "id": "IXiBRoommivs"
      },
      "source": [
        "def normalize_img(image, label):\n",
        "  \"\"\"Normalizes images: `uint8` -> `float32`.\"\"\"\n",
        "  return tf.cast(image, tf.float32) / 255., label\n"
      ],
      "execution_count": 4,
      "outputs": []
    },
    {
      "cell_type": "code",
      "metadata": {
        "id": "oGcOzBmDKAr7"
      },
      "source": [
        "tds = train_ds.as_numpy_iterator()\n",
        "labs = []\n",
        "for el in tds:\n",
        "  labs.append(el[1])\n",
        "\n",
        "lab_cnt = []\n",
        "for i in range(0,8):\n",
        "  lab_cnt.append(labs.count(i))\n",
        "lab_cnt\n",
        "lab_list = ['Tumor', 'Stroma','Complex', 'Lympho','Debris','Mucosa','Adipose','Empty']"
      ],
      "execution_count": 5,
      "outputs": []
    },
    {
      "cell_type": "code",
      "metadata": {
        "colab": {
          "base_uri": "https://localhost:8080/",
          "height": 265
        },
        "id": "WryOg3JVtG0j",
        "outputId": "d3e5b216-10b1-46bc-e945-eefb8fcdb545"
      },
      "source": [
        "plt.pie(lab_cnt, labels=['Tumor', 'Stroma','Complex', 'Lympho','Debris','Mucosa','Adipose','Empty'], startangle=180, \n",
        "        autopct='%1.1f', shadow=True)\n",
        "plt.figure(figsize=(16,16))\n",
        "plt.show()"
      ],
      "execution_count": 6,
      "outputs": [
        {
          "output_type": "display_data",
          "data": {
            "image/png": "[encoded data removed]",
            "text/plain": [
              "<Figure size 432x288 with 1 Axes>"
            ]
          },
          "metadata": {
            "tags": []
          }
        },
        {
          "output_type": "display_data",
          "data": {
            "text/plain": [
              "<Figure size 1152x1152 with 0 Axes>"
            ]
          },
          "metadata": {
            "tags": []
          }
        }
      ]
    },
    {
      "cell_type": "code",
      "metadata": {
        "id": "oEahiGhg25Nn"
      },
      "source": [
        "test_lb = test_ds.as_numpy_iterator()\n",
        "test_labels = []\n",
        "for tlb in test_lb:\n",
        "  test_labels.append(tlb[1])"
      ],
      "execution_count": 7,
      "outputs": []
    },
    {
      "cell_type": "code",
      "metadata": {
        "id": "A8UOftf4oI4W"
      },
      "source": [
        "train_ds = train_ds.map(normalize_img,\n",
        "                        num_parallel_calls=tf.data.AUTOTUNE)\n",
        "train_ds = train_ds.cache().shuffle(1000).batch(128).prefetch(tf.data.AUTOTUNE)"
      ],
      "execution_count": 8,
      "outputs": []
    },
    {
      "cell_type": "code",
      "metadata": {
        "id": "MZ5cclzmah3U"
      },
      "source": [
        ""
      ],
      "execution_count": 8,
      "outputs": []
    },
    {
      "cell_type": "code",
      "metadata": {
        "id": "DVc5us6K4-R_"
      },
      "source": [
        "val_ds = val_ds.map(normalize_img,\n",
        "                    num_parallel_calls=tf.data.AUTOTUNE)\n",
        "val_ds = val_ds.batch(128).cache().prefetch(tf.data.AUTOTUNE)"
      ],
      "execution_count": 9,
      "outputs": []
    },
    {
      "cell_type": "code",
      "metadata": {
        "id": "pCA0DEBF_xS6"
      },
      "source": [
        "test_ds = test_ds.map(normalize_img,\n",
        "                    num_parallel_calls=tf.data.AUTOTUNE)\n",
        "test_ds = test_ds.batch(128).cache().prefetch(tf.data.AUTOTUNE)"
      ],
      "execution_count": 10,
      "outputs": []
    },
    {
      "cell_type": "code",
      "metadata": {
        "colab": {
          "base_uri": "https://localhost:8080/"
        },
        "id": "EM_jdkRHsWQW",
        "outputId": "70f27f5f-a5e9-46e4-9c1c-12ad16b48688"
      },
      "source": [
        "val_ds.enumerate()"
      ],
      "execution_count": 11,
      "outputs": [
        {
          "output_type": "execute_result",
          "data": {
            "text/plain": [
              "<ZipDataset shapes: ((), ((None, 150, 150, 3), (None,))), types: (tf.int64, (tf.float32, tf.int64))>"
            ]
          },
          "metadata": {
            "tags": []
          },
          "execution_count": 11
        }
      ]
    },
    {
      "cell_type": "code",
      "metadata": {
        "colab": {
          "base_uri": "https://localhost:8080/"
        },
        "id": "MvEu-VWesZte",
        "outputId": "dc931971-67d0-415b-9f33-0c85679912fd"
      },
      "source": [
        "train_ds"
      ],
      "execution_count": 12,
      "outputs": [
        {
          "output_type": "execute_result",
          "data": {
            "text/plain": [
              "<PrefetchDataset shapes: ((None, 150, 150, 3), (None,)), types: (tf.float32, tf.int64)>"
            ]
          },
          "metadata": {
            "tags": []
          },
          "execution_count": 12
        }
      ]
    },
    {
      "cell_type": "code",
      "metadata": {
        "colab": {
          "base_uri": "https://localhost:8080/"
        },
        "id": "lr4vTQxrAMms",
        "outputId": "559db268-f0f4-4b3b-e74a-1b1293891af9"
      },
      "source": [
        "test_ds"
      ],
      "execution_count": 13,
      "outputs": [
        {
          "output_type": "execute_result",
          "data": {
            "text/plain": [
              "<PrefetchDataset shapes: ((None, 150, 150, 3), (None,)), types: (tf.float32, tf.int64)>"
            ]
          },
          "metadata": {
            "tags": []
          },
          "execution_count": 13
        }
      ]
    },
    {
      "cell_type": "code",
      "metadata": {
        "colab": {
          "base_uri": "https://localhost:8080/"
        },
        "id": "Tewnxag2td8q",
        "outputId": "bfcc91bd-3286-455a-c41a-9c607508590b"
      },
      "source": [
        "kernel_size = (3,3)\n",
        "pool_size= (2,2)\n",
        "\n",
        "zeroth_filters = 16\n",
        "first_filters = 64\n",
        "second_filters = 256\n",
        "third_filters = 1024\n",
        "\n",
        "dropout_conv = 0.3\n",
        "dropout_dense = 0.3\n",
        "\n",
        "\n",
        "model = tf.keras.models.Sequential([\n",
        "                                    layers.Conv2D(zeroth_filters, kernel_size, padding='same',activation = 'relu', input_shape = (150, 150, 3)),\n",
        "                                    #layers.Conv2D(zeroth_filters, kernel_size, activation = 'relu'),\n",
        "                                    #layers.Conv2D(zeroth_filters, kernel_size, activation = 'relu'),\n",
        "                                    layers.MaxPooling2D(pool_size = pool_size),\n",
        "                                    #layers.Dropout(dropout_conv),\n",
        "                                    layers.Conv2D(first_filters, kernel_size, activation = 'relu'),\n",
        "                                    #layers.Conv2D(first_filters, kernel_size, activation = 'relu'),\n",
        "                                    #layers.Conv2D(first_filters, kernel_size, activation = 'relu'),\n",
        "                                    layers.MaxPooling2D(pool_size = pool_size),\n",
        "                                    #layers.Dropout(dropout_conv),\n",
        "                                    layers.Conv2D(second_filters, kernel_size, activation ='relu'),\n",
        "                                    #layers.Conv2D(second_filters, kernel_size, activation ='relu'),\n",
        "                                    #layers.Conv2D(second_filters, kernel_size, activation ='relu'),\n",
        "                                    layers.MaxPooling2D(pool_size = pool_size),\n",
        "                                    #layers.Dropout(dropout_conv),\n",
        "                                    layers.Conv2D(third_filters, kernel_size, activation ='relu'),\n",
        "                                    #layers.Conv2D(third_filters, kernel_size, activation ='relu'),\n",
        "                                    #layers.Conv2D(third_filters, kernel_size, activation ='relu'),\n",
        "                                    layers.MaxPooling2D(pool_size = pool_size),\n",
        "                                    #layers.Dropout(dropout_conv),\n",
        "                                    layers.Flatten(),\n",
        "                                    layers.Dense(256, activation = \"relu\"),\n",
        "                                    #layers.Dropout(dropout_dense),\n",
        "                                    layers.Dense(8, activation = \"softmax\")\n",
        "                                    \n",
        "])\n",
        "\n",
        "\n",
        "model.summary()"
      ],
      "execution_count": 14,
      "outputs": [
        {
          "output_type": "stream",
          "text": [
            "Model: \"sequential\"\n",
            "_________________________________________________________________\n",
            "Layer (type)                 Output Shape              Param #   \n",
            "=================================================================\n",
            "conv2d (Conv2D)              (None, 150, 150, 16)      448       \n",
            "_________________________________________________________________\n",
            "max_pooling2d (MaxPooling2D) (None, 75, 75, 16)        0         \n",
            "_________________________________________________________________\n",
            "conv2d_1 (Conv2D)            (None, 73, 73, 64)        9280      \n",
            "_________________________________________________________________\n",
            "max_pooling2d_1 (MaxPooling2 (None, 36, 36, 64)        0         \n",
            "_________________________________________________________________\n",
            "conv2d_2 (Conv2D)            (None, 34, 34, 256)       147712    \n",
            "_________________________________________________________________\n",
            "max_pooling2d_2 (MaxPooling2 (None, 17, 17, 256)       0         \n",
            "_________________________________________________________________\n",
            "conv2d_3 (Conv2D)            (None, 15, 15, 1024)      2360320   \n",
            "_________________________________________________________________\n",
            "max_pooling2d_3 (MaxPooling2 (None, 7, 7, 1024)        0         \n",
            "_________________________________________________________________\n",
            "flatten (Flatten)            (None, 50176)             0         \n",
            "_________________________________________________________________\n",
            "dense (Dense)                (None, 256)               12845312  \n",
            "_________________________________________________________________\n",
            "dense_1 (Dense)              (None, 8)                 2056      \n",
            "=================================================================\n",
            "Total params: 15,365,128\n",
            "Trainable params: 15,365,128\n",
            "Non-trainable params: 0\n",
            "_________________________________________________________________\n"
          ],
          "name": "stdout"
        }
      ]
    },
    {
      "cell_type": "code",
      "metadata": {
        "id": "lt0CTx6iv23Y"
      },
      "source": [
        "model.compile(\n",
        "    optimizer=tf.keras.optimizers.Adam(0.001),\n",
        "    loss=tf.keras.losses.SparseCategoricalCrossentropy(from_logits=True),\n",
        "    metrics=[tf.keras.metrics.SparseCategoricalAccuracy()],\n",
        ")\n"
      ],
      "execution_count": 15,
      "outputs": []
    },
    {
      "cell_type": "code",
      "metadata": {
        "colab": {
          "base_uri": "https://localhost:8080/"
        },
        "id": "MffOhHI-v_08",
        "outputId": "24ecc05f-345e-4c71-ba1c-ddb0e5d4f7e6"
      },
      "source": [
        "filepath = \"model2.h5\"\n",
        "checkpoint = tf.keras.callbacks.ModelCheckpoint(filepath, monitor='val_sparse_categorical_accuracy', verbose=1, \n",
        "                             save_best_only=True, mode='max')\n",
        "\n",
        "reduce_lr = tf.keras.callbacks.ReduceLROnPlateau(monitor='val_sparse_categorical_accuracy', factor=0.5, patience=2, \n",
        "                                   verbose=1, mode='max', min_lr=0.00001)\n",
        "                              \n",
        "                              \n",
        "callbacks_list = [checkpoint, reduce_lr]\n",
        "\n",
        "history = model.fit(train_ds, \n",
        "                    validation_data=val_ds,\n",
        "                    epochs=40, verbose=1,\n",
        "                   callbacks=callbacks_list)\n"
      ],
      "execution_count": 16,
      "outputs": [
        {
          "output_type": "stream",
          "text": [
            "Epoch 1/40\n",
            "28/28 [==============================] - 15s 228ms/step - loss: 2.3276 - sparse_categorical_accuracy: 0.1846 - val_loss: 1.1629 - val_sparse_categorical_accuracy: 0.4410\n",
            "\n",
            "Epoch 00001: val_sparse_categorical_accuracy improved from -inf to 0.44100, saving model to model2.h5\n",
            "Epoch 2/40\n",
            "28/28 [==============================] - 4s 129ms/step - loss: 1.1204 - sparse_categorical_accuracy: 0.4980 - val_loss: 0.8804 - val_sparse_categorical_accuracy: 0.6290\n",
            "\n",
            "Epoch 00002: val_sparse_categorical_accuracy improved from 0.44100 to 0.62900, saving model to model2.h5\n",
            "Epoch 3/40\n",
            "28/28 [==============================] - 4s 131ms/step - loss: 0.9981 - sparse_categorical_accuracy: 0.5861 - val_loss: 0.8397 - val_sparse_categorical_accuracy: 0.6120\n",
            "\n",
            "Epoch 00003: val_sparse_categorical_accuracy did not improve from 0.62900\n",
            "Epoch 4/40\n",
            "28/28 [==============================] - 4s 131ms/step - loss: 0.8466 - sparse_categorical_accuracy: 0.6552 - val_loss: 0.7918 - val_sparse_categorical_accuracy: 0.7010\n",
            "\n",
            "Epoch 00004: val_sparse_categorical_accuracy improved from 0.62900 to 0.70100, saving model to model2.h5\n",
            "Epoch 5/40\n",
            "28/28 [==============================] - 4s 131ms/step - loss: 0.7513 - sparse_categorical_accuracy: 0.6932 - val_loss: 0.7734 - val_sparse_categorical_accuracy: 0.6280\n",
            "\n",
            "Epoch 00005: val_sparse_categorical_accuracy did not improve from 0.70100\n",
            "Epoch 6/40\n",
            "28/28 [==============================] - 4s 132ms/step - loss: 0.7173 - sparse_categorical_accuracy: 0.6930 - val_loss: 0.6699 - val_sparse_categorical_accuracy: 0.7150\n",
            "\n",
            "Epoch 00006: val_sparse_categorical_accuracy improved from 0.70100 to 0.71500, saving model to model2.h5\n",
            "Epoch 7/40\n",
            "28/28 [==============================] - 4s 133ms/step - loss: 0.6566 - sparse_categorical_accuracy: 0.7190 - val_loss: 0.6711 - val_sparse_categorical_accuracy: 0.7140\n",
            "\n",
            "Epoch 00007: val_sparse_categorical_accuracy did not improve from 0.71500\n",
            "Epoch 8/40\n",
            "28/28 [==============================] - 4s 133ms/step - loss: 0.5948 - sparse_categorical_accuracy: 0.7685 - val_loss: 0.8709 - val_sparse_categorical_accuracy: 0.6450\n",
            "\n",
            "Epoch 00008: val_sparse_categorical_accuracy did not improve from 0.71500\n",
            "\n",
            "Epoch 00008: ReduceLROnPlateau reducing learning rate to 0.0005000000237487257.\n",
            "Epoch 9/40\n",
            "28/28 [==============================] - 4s 134ms/step - loss: 0.6225 - sparse_categorical_accuracy: 0.7712 - val_loss: 0.5608 - val_sparse_categorical_accuracy: 0.7900\n",
            "\n",
            "Epoch 00009: val_sparse_categorical_accuracy improved from 0.71500 to 0.79000, saving model to model2.h5\n",
            "Epoch 10/40\n",
            "28/28 [==============================] - 4s 135ms/step - loss: 0.4961 - sparse_categorical_accuracy: 0.8139 - val_loss: 0.5585 - val_sparse_categorical_accuracy: 0.8080\n",
            "\n",
            "Epoch 00010: val_sparse_categorical_accuracy improved from 0.79000 to 0.80800, saving model to model2.h5\n",
            "Epoch 11/40\n",
            "28/28 [==============================] - 4s 134ms/step - loss: 0.4778 - sparse_categorical_accuracy: 0.8284 - val_loss: 0.5369 - val_sparse_categorical_accuracy: 0.7910\n",
            "\n",
            "Epoch 00011: val_sparse_categorical_accuracy did not improve from 0.80800\n",
            "Epoch 12/40\n",
            "28/28 [==============================] - 4s 135ms/step - loss: 0.4828 - sparse_categorical_accuracy: 0.8114 - val_loss: 0.5298 - val_sparse_categorical_accuracy: 0.8020\n",
            "\n",
            "Epoch 00012: val_sparse_categorical_accuracy did not improve from 0.80800\n",
            "\n",
            "Epoch 00012: ReduceLROnPlateau reducing learning rate to 0.0002500000118743628.\n",
            "Epoch 13/40\n",
            "28/28 [==============================] - 4s 135ms/step - loss: 0.4338 - sparse_categorical_accuracy: 0.8343 - val_loss: 0.6009 - val_sparse_categorical_accuracy: 0.7070\n",
            "\n",
            "Epoch 00013: val_sparse_categorical_accuracy did not improve from 0.80800\n",
            "Epoch 14/40\n",
            "28/28 [==============================] - 4s 134ms/step - loss: 0.4607 - sparse_categorical_accuracy: 0.8134 - val_loss: 0.5463 - val_sparse_categorical_accuracy: 0.7910\n",
            "\n",
            "Epoch 00014: val_sparse_categorical_accuracy did not improve from 0.80800\n",
            "\n",
            "Epoch 00014: ReduceLROnPlateau reducing learning rate to 0.0001250000059371814.\n",
            "Epoch 15/40\n",
            "28/28 [==============================] - 4s 135ms/step - loss: 0.4106 - sparse_categorical_accuracy: 0.8446 - val_loss: 0.4620 - val_sparse_categorical_accuracy: 0.8340\n",
            "\n",
            "Epoch 00015: val_sparse_categorical_accuracy improved from 0.80800 to 0.83400, saving model to model2.h5\n",
            "Epoch 16/40\n",
            "28/28 [==============================] - 4s 134ms/step - loss: 0.3781 - sparse_categorical_accuracy: 0.8661 - val_loss: 0.4525 - val_sparse_categorical_accuracy: 0.8260\n",
            "\n",
            "Epoch 00016: val_sparse_categorical_accuracy did not improve from 0.83400\n",
            "Epoch 17/40\n",
            "28/28 [==============================] - 4s 133ms/step - loss: 0.3690 - sparse_categorical_accuracy: 0.8721 - val_loss: 0.4721 - val_sparse_categorical_accuracy: 0.8210\n",
            "\n",
            "Epoch 00017: val_sparse_categorical_accuracy did not improve from 0.83400\n",
            "\n",
            "Epoch 00017: ReduceLROnPlateau reducing learning rate to 6.25000029685907e-05.\n",
            "Epoch 18/40\n",
            "28/28 [==============================] - 4s 133ms/step - loss: 0.3727 - sparse_categorical_accuracy: 0.8691 - val_loss: 0.4562 - val_sparse_categorical_accuracy: 0.8280\n",
            "\n",
            "Epoch 00018: val_sparse_categorical_accuracy did not improve from 0.83400\n",
            "Epoch 19/40\n",
            "28/28 [==============================] - 4s 133ms/step - loss: 0.3438 - sparse_categorical_accuracy: 0.8757 - val_loss: 0.4452 - val_sparse_categorical_accuracy: 0.8360\n",
            "\n",
            "Epoch 00019: val_sparse_categorical_accuracy improved from 0.83400 to 0.83600, saving model to model2.h5\n",
            "Epoch 20/40\n",
            "28/28 [==============================] - 4s 132ms/step - loss: 0.3427 - sparse_categorical_accuracy: 0.8812 - val_loss: 0.4422 - val_sparse_categorical_accuracy: 0.8360\n",
            "\n",
            "Epoch 00020: val_sparse_categorical_accuracy did not improve from 0.83600\n",
            "Epoch 21/40\n",
            "28/28 [==============================] - 4s 132ms/step - loss: 0.3435 - sparse_categorical_accuracy: 0.8856 - val_loss: 0.4394 - val_sparse_categorical_accuracy: 0.8380\n",
            "\n",
            "Epoch 00021: val_sparse_categorical_accuracy improved from 0.83600 to 0.83800, saving model to model2.h5\n",
            "Epoch 22/40\n",
            "28/28 [==============================] - 4s 137ms/step - loss: 0.3360 - sparse_categorical_accuracy: 0.8787 - val_loss: 0.4433 - val_sparse_categorical_accuracy: 0.8380\n",
            "\n",
            "Epoch 00022: val_sparse_categorical_accuracy did not improve from 0.83800\n",
            "Epoch 23/40\n",
            "28/28 [==============================] - 4s 132ms/step - loss: 0.3386 - sparse_categorical_accuracy: 0.8838 - val_loss: 0.4428 - val_sparse_categorical_accuracy: 0.8410\n",
            "\n",
            "Epoch 00023: val_sparse_categorical_accuracy improved from 0.83800 to 0.84100, saving model to model2.h5\n",
            "Epoch 24/40\n",
            "28/28 [==============================] - 4s 133ms/step - loss: 0.3262 - sparse_categorical_accuracy: 0.8832 - val_loss: 0.4340 - val_sparse_categorical_accuracy: 0.8430\n",
            "\n",
            "Epoch 00024: val_sparse_categorical_accuracy improved from 0.84100 to 0.84300, saving model to model2.h5\n",
            "Epoch 25/40\n",
            "28/28 [==============================] - 4s 132ms/step - loss: 0.3311 - sparse_categorical_accuracy: 0.8825 - val_loss: 0.4326 - val_sparse_categorical_accuracy: 0.8470\n",
            "\n",
            "Epoch 00025: val_sparse_categorical_accuracy improved from 0.84300 to 0.84700, saving model to model2.h5\n",
            "Epoch 26/40\n",
            "28/28 [==============================] - 4s 132ms/step - loss: 0.3257 - sparse_categorical_accuracy: 0.8815 - val_loss: 0.4343 - val_sparse_categorical_accuracy: 0.8430\n",
            "\n",
            "Epoch 00026: val_sparse_categorical_accuracy did not improve from 0.84700\n",
            "Epoch 27/40\n",
            "28/28 [==============================] - 4s 132ms/step - loss: 0.3294 - sparse_categorical_accuracy: 0.8904 - val_loss: 0.4416 - val_sparse_categorical_accuracy: 0.8350\n",
            "\n",
            "Epoch 00027: val_sparse_categorical_accuracy did not improve from 0.84700\n",
            "\n",
            "Epoch 00027: ReduceLROnPlateau reducing learning rate to 3.125000148429535e-05.\n",
            "Epoch 28/40\n",
            "28/28 [==============================] - 4s 132ms/step - loss: 0.3135 - sparse_categorical_accuracy: 0.8912 - val_loss: 0.4352 - val_sparse_categorical_accuracy: 0.8430\n",
            "\n",
            "Epoch 00028: val_sparse_categorical_accuracy did not improve from 0.84700\n",
            "Epoch 29/40\n",
            "28/28 [==============================] - 4s 133ms/step - loss: 0.3238 - sparse_categorical_accuracy: 0.8850 - val_loss: 0.4316 - val_sparse_categorical_accuracy: 0.8510\n",
            "\n",
            "Epoch 00029: val_sparse_categorical_accuracy improved from 0.84700 to 0.85100, saving model to model2.h5\n",
            "Epoch 30/40\n",
            "28/28 [==============================] - 4s 133ms/step - loss: 0.2983 - sparse_categorical_accuracy: 0.8922 - val_loss: 0.4296 - val_sparse_categorical_accuracy: 0.8440\n",
            "\n",
            "Epoch 00030: val_sparse_categorical_accuracy did not improve from 0.85100\n",
            "Epoch 31/40\n",
            "28/28 [==============================] - 4s 134ms/step - loss: 0.3107 - sparse_categorical_accuracy: 0.8881 - val_loss: 0.4341 - val_sparse_categorical_accuracy: 0.8340\n",
            "\n",
            "Epoch 00031: val_sparse_categorical_accuracy did not improve from 0.85100\n",
            "\n",
            "Epoch 00031: ReduceLROnPlateau reducing learning rate to 1.5625000742147677e-05.\n",
            "Epoch 32/40\n",
            "28/28 [==============================] - 4s 133ms/step - loss: 0.3127 - sparse_categorical_accuracy: 0.8882 - val_loss: 0.4305 - val_sparse_categorical_accuracy: 0.8450\n",
            "\n",
            "Epoch 00032: val_sparse_categorical_accuracy did not improve from 0.85100\n",
            "Epoch 33/40\n",
            "28/28 [==============================] - 4s 133ms/step - loss: 0.2984 - sparse_categorical_accuracy: 0.8982 - val_loss: 0.4309 - val_sparse_categorical_accuracy: 0.8480\n",
            "\n",
            "Epoch 00033: val_sparse_categorical_accuracy did not improve from 0.85100\n",
            "\n",
            "Epoch 00033: ReduceLROnPlateau reducing learning rate to 1e-05.\n",
            "Epoch 34/40\n",
            "28/28 [==============================] - 4s 135ms/step - loss: 0.2955 - sparse_categorical_accuracy: 0.8917 - val_loss: 0.4298 - val_sparse_categorical_accuracy: 0.8460\n",
            "\n",
            "Epoch 00034: val_sparse_categorical_accuracy did not improve from 0.85100\n",
            "Epoch 35/40\n",
            "28/28 [==============================] - 4s 133ms/step - loss: 0.3031 - sparse_categorical_accuracy: 0.8967 - val_loss: 0.4317 - val_sparse_categorical_accuracy: 0.8460\n",
            "\n",
            "Epoch 00035: val_sparse_categorical_accuracy did not improve from 0.85100\n",
            "Epoch 36/40\n",
            "28/28 [==============================] - 4s 134ms/step - loss: 0.3075 - sparse_categorical_accuracy: 0.8921 - val_loss: 0.4300 - val_sparse_categorical_accuracy: 0.8450\n",
            "\n",
            "Epoch 00036: val_sparse_categorical_accuracy did not improve from 0.85100\n",
            "Epoch 37/40\n",
            "28/28 [==============================] - 4s 134ms/step - loss: 0.2937 - sparse_categorical_accuracy: 0.8977 - val_loss: 0.4306 - val_sparse_categorical_accuracy: 0.8450\n",
            "\n",
            "Epoch 00037: val_sparse_categorical_accuracy did not improve from 0.85100\n",
            "Epoch 38/40\n",
            "28/28 [==============================] - 4s 132ms/step - loss: 0.2799 - sparse_categorical_accuracy: 0.9045 - val_loss: 0.4328 - val_sparse_categorical_accuracy: 0.8460\n",
            "\n",
            "Epoch 00038: val_sparse_categorical_accuracy did not improve from 0.85100\n",
            "Epoch 39/40\n",
            "28/28 [==============================] - 4s 132ms/step - loss: 0.3023 - sparse_categorical_accuracy: 0.8974 - val_loss: 0.4292 - val_sparse_categorical_accuracy: 0.8470\n",
            "\n",
            "Epoch 00039: val_sparse_categorical_accuracy did not improve from 0.85100\n",
            "Epoch 40/40\n",
            "28/28 [==============================] - 4s 132ms/step - loss: 0.2886 - sparse_categorical_accuracy: 0.9021 - val_loss: 0.4306 - val_sparse_categorical_accuracy: 0.8470\n",
            "\n",
            "Epoch 00040: val_sparse_categorical_accuracy did not improve from 0.85100\n"
          ],
          "name": "stdout"
        }
      ]
    },
    {
      "cell_type": "code",
      "metadata": {
        "colab": {
          "base_uri": "https://localhost:8080/"
        },
        "id": "WXcLgSGD-J6g",
        "outputId": "46830e2a-2822-41b0-efb2-c49045790856"
      },
      "source": [
        "val_loss, val_acc = model.evaluate(test_ds)"
      ],
      "execution_count": 17,
      "outputs": [
        {
          "output_type": "stream",
          "text": [
            "4/4 [==============================] - 1s 342ms/step - loss: 0.4733 - sparse_categorical_accuracy: 0.8420\n"
          ],
          "name": "stdout"
        }
      ]
    },
    {
      "cell_type": "code",
      "metadata": {
        "colab": {
          "base_uri": "https://localhost:8080/"
        },
        "id": "jQZ9bDIYDOgN",
        "outputId": "90892433-03ff-48b6-8024-f391b06b7198"
      },
      "source": [
        "val_loss, val_acc"
      ],
      "execution_count": 18,
      "outputs": [
        {
          "output_type": "execute_result",
          "data": {
            "text/plain": [
              "(0.47330406308174133, 0.8420000076293945)"
            ]
          },
          "metadata": {
            "tags": []
          },
          "execution_count": 18
        }
      ]
    },
    {
      "cell_type": "code",
      "metadata": {
        "colab": {
          "base_uri": "https://localhost:8080/",
          "height": 580
        },
        "id": "sVF12b2KD9ud",
        "outputId": "a6ef67f4-ab97-41e9-d8e3-78173edcacea"
      },
      "source": [
        "\n",
        "acc = history.history['sparse_categorical_accuracy']\n",
        "val_acc = history.history['val_sparse_categorical_accuracy']\n",
        "loss = history.history['loss']\n",
        "val_loss = history.history['val_loss']\n",
        "\n",
        "epochs = range(1, len(acc) + 1)\n",
        "\n",
        "plt.plot(epochs, loss, 'bo', label='Training loss')\n",
        "plt.plot(epochs, val_loss, 'b', label='Validation loss')\n",
        "plt.title('Training and validation loss')\n",
        "plt.legend()\n",
        "plt.figure()\n",
        "\n",
        "plt.plot(epochs, acc, 'bo', label='Training acc')\n",
        "plt.plot(epochs, val_acc, 'b', label='Validation acc')\n",
        "plt.title('Training and validation accuracy')\n",
        "plt.legend()\n",
        "plt.figure()\n"
      ],
      "execution_count": 19,
      "outputs": [
        {
          "output_type": "execute_result",
          "data": {
            "text/plain": [
              "<Figure size 432x288 with 0 Axes>"
            ]
          },
          "metadata": {
            "tags": []
          },
          "execution_count": 19
        },
        {
          "output_type": "display_data",
          "data": {
            "image/png": "[encoded data removed]",
            "text/plain": [
              "<Figure size 432x288 with 1 Axes>"
            ]
          },
          "metadata": {
            "tags": [],
            "needs_background": "light"
          }
        },
        {
          "output_type": "display_data",
          "data": {
            "image/png": "[encoded data removed]",
            "text/plain": [
              "<Figure size 432x288 with 1 Axes>"
            ]
          },
          "metadata": {
            "tags": [],
            "needs_background": "light"
          }
        },
        {
          "output_type": "display_data",
          "data": {
            "text/plain": [
              "<Figure size 432x288 with 0 Axes>"
            ]
          },
          "metadata": {
            "tags": []
          }
        }
      ]
    },
    {
      "cell_type": "code",
      "metadata": {
        "id": "s95DwtXlFJUg"
      },
      "source": [
        "predictions = model.predict(test_ds)"
      ],
      "execution_count": 20,
      "outputs": []
    },
    {
      "cell_type": "code",
      "metadata": {
        "colab": {
          "base_uri": "https://localhost:8080/"
        },
        "id": "RQshNNHaFZSB",
        "outputId": "c3d30405-36b4-4792-f01a-8afa0929710a"
      },
      "source": [
        "predictions.shape"
      ],
      "execution_count": 21,
      "outputs": [
        {
          "output_type": "execute_result",
          "data": {
            "text/plain": [
              "(500, 8)"
            ]
          },
          "metadata": {
            "tags": []
          },
          "execution_count": 21
        }
      ]
    },
    {
      "cell_type": "code",
      "metadata": {
        "colab": {
          "base_uri": "https://localhost:8080/",
          "height": 206
        },
        "id": "Qi9ofQ25Fdfx",
        "outputId": "6e8bedf0-57fe-4bc9-f39a-21b6ffc35389"
      },
      "source": [
        "preds_ds = pd.DataFrame(predictions, columns=lab_list)\n",
        "preds_ds.head()"
      ],
      "execution_count": 22,
      "outputs": [
        {
          "output_type": "execute_result",
          "data": {
            "text/html": [
              "<div>\n",
              "<style scoped>\n",
              "    .dataframe tbody tr th:only-of-type {\n",
              "        vertical-align: middle;\n",
              "    }\n",
              "\n",
              "    .dataframe tbody tr th {\n",
              "        vertical-align: top;\n",
              "    }\n",
              "\n",
              "    .dataframe thead th {\n",
              "        text-align: right;\n",
              "    }\n",
              "</style>\n",
              "<table border=\"1\" class=\"dataframe\">\n",
              "  <thead>\n",
              "    <tr style=\"text-align: right;\">\n",
              "      <th></th>\n",
              "      <th>Tumor</th>\n",
              "      <th>Stroma</th>\n",
              "      <th>Complex</th>\n",
              "      <th>Lympho</th>\n",
              "      <th>Debris</th>\n",
              "      <th>Mucosa</th>\n",
              "      <th>Adipose</th>\n",
              "      <th>Empty</th>\n",
              "    </tr>\n",
              "  </thead>\n",
              "  <tbody>\n",
              "    <tr>\n",
              "      <th>0</th>\n",
              "      <td>0.000788</td>\n",
              "      <td>5.162182e-01</td>\n",
              "      <td>0.006981</td>\n",
              "      <td>7.599311e-06</td>\n",
              "      <td>4.759818e-01</td>\n",
              "      <td>0.000009</td>\n",
              "      <td>1.462200e-05</td>\n",
              "      <td>7.266965e-10</td>\n",
              "    </tr>\n",
              "    <tr>\n",
              "      <th>1</th>\n",
              "      <td>0.008838</td>\n",
              "      <td>8.880385e-02</td>\n",
              "      <td>0.164093</td>\n",
              "      <td>1.112836e-02</td>\n",
              "      <td>3.326721e-02</td>\n",
              "      <td>0.693869</td>\n",
              "      <td>1.011338e-06</td>\n",
              "      <td>1.468269e-17</td>\n",
              "    </tr>\n",
              "    <tr>\n",
              "      <th>2</th>\n",
              "      <td>0.923829</td>\n",
              "      <td>2.782822e-11</td>\n",
              "      <td>0.006752</td>\n",
              "      <td>1.144900e-02</td>\n",
              "      <td>4.882143e-07</td>\n",
              "      <td>0.057969</td>\n",
              "      <td>1.712630e-11</td>\n",
              "      <td>9.872404e-25</td>\n",
              "    </tr>\n",
              "    <tr>\n",
              "      <th>3</th>\n",
              "      <td>0.999863</td>\n",
              "      <td>1.765861e-15</td>\n",
              "      <td>0.000092</td>\n",
              "      <td>1.971822e-05</td>\n",
              "      <td>1.714885e-10</td>\n",
              "      <td>0.000025</td>\n",
              "      <td>2.178781e-14</td>\n",
              "      <td>5.921720e-28</td>\n",
              "    </tr>\n",
              "    <tr>\n",
              "      <th>4</th>\n",
              "      <td>0.000580</td>\n",
              "      <td>6.240563e-04</td>\n",
              "      <td>0.000074</td>\n",
              "      <td>1.312316e-07</td>\n",
              "      <td>5.427587e-02</td>\n",
              "      <td>0.000782</td>\n",
              "      <td>9.436640e-01</td>\n",
              "      <td>2.149793e-07</td>\n",
              "    </tr>\n",
              "  </tbody>\n",
              "</table>\n",
              "</div>"
            ],
            "text/plain": [
              "      Tumor        Stroma   Complex  ...    Mucosa       Adipose         Empty\n",
              "0  0.000788  5.162182e-01  0.006981  ...  0.000009  1.462200e-05  7.266965e-10\n",
              "1  0.008838  8.880385e-02  0.164093  ...  0.693869  1.011338e-06  1.468269e-17\n",
              "2  0.923829  2.782822e-11  0.006752  ...  0.057969  1.712630e-11  9.872404e-25\n",
              "3  0.999863  1.765861e-15  0.000092  ...  0.000025  2.178781e-14  5.921720e-28\n",
              "4  0.000580  6.240563e-04  0.000074  ...  0.000782  9.436640e-01  2.149793e-07\n",
              "\n",
              "[5 rows x 8 columns]"
            ]
          },
          "metadata": {
            "tags": []
          },
          "execution_count": 22
        }
      ]
    },
    {
      "cell_type": "code",
      "metadata": {
        "id": "cYk1Q-WK7qOP"
      },
      "source": [
        "from sklearn.metrics import roc_auc_score\n",
        "\n",
        "cm = confusion_matrix(test_labels, predictions.argmax(axis=1))"
      ],
      "execution_count": 23,
      "outputs": []
    },
    {
      "cell_type": "code",
      "metadata": {
        "colab": {
          "base_uri": "https://localhost:8080/",
          "height": 295
        },
        "id": "m1ClQm1bAalJ",
        "outputId": "23acfbe8-b262-4d42-f22c-2c4731e9d744"
      },
      "source": [
        "ax= plt.subplot()\n",
        "sns.heatmap(cm, annot=True, ax = ax); #annot=True to annotate cells\n",
        "\n",
        "# labels, title and ticks\n",
        "ax.set_xlabel('Predicted labels');ax.set_ylabel('True labels'); \n",
        "ax.set_title('Confusion Matrix'); "
      ],
      "execution_count": 24,
      "outputs": [
        {
          "output_type": "display_data",
          "data": {
            "image/png": "[encoded data removed]",
            "text/plain": [
              "<Figure size 432x288 with 2 Axes>"
            ]
          },
          "metadata": {
            "tags": [],
            "needs_background": "light"
          }
        }
      ]
    },
    {
      "cell_type": "code",
      "metadata": {
        "id": "ivA6K2p5EdQH"
      },
      "source": [
        "baseline_im = tf.zeros(shape=(150,150,3))\n"
      ],
      "execution_count": 25,
      "outputs": []
    },
    {
      "cell_type": "code",
      "metadata": {
        "colab": {
          "base_uri": "https://localhost:8080/",
          "height": 264
        },
        "id": "xbPegGb1fRxd",
        "outputId": "f1763237-0ac8-431d-8aab-8e20ca200017"
      },
      "source": [
        "plt.imshow(baseline_im)\n",
        "plt.title(\"Baseline\")\n",
        "plt.axis('off')\n",
        "plt.show()\n"
      ],
      "execution_count": 26,
      "outputs": [
        {
          "output_type": "display_data",
          "data": {
            "image/png": "[encoded data removed]",
            "text/plain": [
              "<Figure size 432x288 with 1 Axes>"
            ]
          },
          "metadata": {
            "tags": [],
            "needs_background": "light"
          }
        }
      ]
    },
    {
      "cell_type": "code",
      "metadata": {
        "id": "DGGh5AMNgjL8"
      },
      "source": [
        "m_steps=50\n",
        "alphas = tf.linspace(start=0.0, stop=1.0, num=m_steps+1) # Generate m_steps intervals for integral_approximation() below.\n"
      ],
      "execution_count": 27,
      "outputs": []
    },
    {
      "cell_type": "code",
      "metadata": {
        "id": "AU9OAMYHgv8c"
      },
      "source": [
        "def interpolate_images(baseline,\n",
        "                       image,\n",
        "                       alphas):\n",
        "  alphas_x = alphas[:, tf.newaxis, tf.newaxis, tf.newaxis]\n",
        "  baseline_x = tf.expand_dims(baseline, axis=0)\n",
        "  input_x = tf.expand_dims(image, axis=0)\n",
        "  delta = input_x - baseline_x\n",
        "  images = baseline_x +  alphas_x * delta\n",
        "  return images"
      ],
      "execution_count": 28,
      "outputs": []
    },
    {
      "cell_type": "code",
      "metadata": {
        "colab": {
          "base_uri": "https://localhost:8080/",
          "height": 278
        },
        "id": "hPt8HI7MhXSo",
        "outputId": "23e48a11-ae00-4eb3-cc36-c6ed627fc26f"
      },
      "source": [
        "for data in test_ds.take(1):\n",
        "    test_im = data[0].numpy().squeeze()\n",
        "    interpolate_images(\n",
        "    baseline=baseline_im,\n",
        "    image=test_im,\n",
        "    alphas=alphas)\n",
        "    \n"
      ],
      "execution_count": 31,
      "outputs": [
        {
          "output_type": "error",
          "ename": "InvalidArgumentError",
          "evalue": "ignored",
          "traceback": [
            "\u001b[0;31m---------------------------------------------------------------------------\u001b[0m",
            "\u001b[0;31mInvalidArgumentError\u001b[0m                      Traceback (most recent call last)",
            "\u001b[0;32m<ipython-input-31-29d878e9f6fb>\u001b[0m in \u001b[0;36m<module>\u001b[0;34m()\u001b[0m\n\u001b[1;32m      4\u001b[0m     \u001b[0mbaseline\u001b[0m\u001b[0;34m=\u001b[0m\u001b[0mbaseline_im\u001b[0m\u001b[0;34m,\u001b[0m\u001b[0;34m\u001b[0m\u001b[0;34m\u001b[0m\u001b[0m\n\u001b[1;32m      5\u001b[0m     \u001b[0mimage\u001b[0m\u001b[0;34m=\u001b[0m\u001b[0mtest_im\u001b[0m\u001b[0;34m,\u001b[0m\u001b[0;34m\u001b[0m\u001b[0;34m\u001b[0m\u001b[0m\n\u001b[0;32m----> 6\u001b[0;31m     alphas=alphas)\n\u001b[0m\u001b[1;32m      7\u001b[0m \u001b[0;34m\u001b[0m\u001b[0m\n",
            "\u001b[0;32m<ipython-input-28-5ed3f8fc61d0>\u001b[0m in \u001b[0;36minterpolate_images\u001b[0;34m(baseline, image, alphas)\u001b[0m\n\u001b[1;32m      6\u001b[0m   \u001b[0minput_x\u001b[0m \u001b[0;34m=\u001b[0m \u001b[0mtf\u001b[0m\u001b[0;34m.\u001b[0m\u001b[0mexpand_dims\u001b[0m\u001b[0;34m(\u001b[0m\u001b[0mimage\u001b[0m\u001b[0;34m,\u001b[0m \u001b[0maxis\u001b[0m\u001b[0;34m=\u001b[0m\u001b[0;36m0\u001b[0m\u001b[0;34m)\u001b[0m\u001b[0;34m\u001b[0m\u001b[0;34m\u001b[0m\u001b[0m\n\u001b[1;32m      7\u001b[0m   \u001b[0mdelta\u001b[0m \u001b[0;34m=\u001b[0m \u001b[0minput_x\u001b[0m \u001b[0;34m-\u001b[0m \u001b[0mbaseline_x\u001b[0m\u001b[0;34m\u001b[0m\u001b[0;34m\u001b[0m\u001b[0m\n\u001b[0;32m----> 8\u001b[0;31m   \u001b[0mimages\u001b[0m \u001b[0;34m=\u001b[0m \u001b[0mbaseline_x\u001b[0m \u001b[0;34m+\u001b[0m  \u001b[0malphas_x\u001b[0m \u001b[0;34m*\u001b[0m \u001b[0mdelta\u001b[0m\u001b[0;34m\u001b[0m\u001b[0;34m\u001b[0m\u001b[0m\n\u001b[0m\u001b[1;32m      9\u001b[0m   \u001b[0;32mreturn\u001b[0m \u001b[0mimages\u001b[0m\u001b[0;34m\u001b[0m\u001b[0;34m\u001b[0m\u001b[0m\n",
            "\u001b[0;32m/usr/local/lib/python3.6/dist-packages/tensorflow/python/ops/math_ops.py\u001b[0m in \u001b[0;36mbinary_op_wrapper\u001b[0;34m(x, y)\u001b[0m\n\u001b[1;32m   1162\u001b[0m     \u001b[0;32mwith\u001b[0m \u001b[0mops\u001b[0m\u001b[0;34m.\u001b[0m\u001b[0mname_scope\u001b[0m\u001b[0;34m(\u001b[0m\u001b[0;32mNone\u001b[0m\u001b[0;34m,\u001b[0m \u001b[0mop_name\u001b[0m\u001b[0;34m,\u001b[0m \u001b[0;34m[\u001b[0m\u001b[0mx\u001b[0m\u001b[0;34m,\u001b[0m \u001b[0my\u001b[0m\u001b[0;34m]\u001b[0m\u001b[0;34m)\u001b[0m \u001b[0;32mas\u001b[0m \u001b[0mname\u001b[0m\u001b[0;34m:\u001b[0m\u001b[0;34m\u001b[0m\u001b[0;34m\u001b[0m\u001b[0m\n\u001b[1;32m   1163\u001b[0m       \u001b[0;32mtry\u001b[0m\u001b[0;34m:\u001b[0m\u001b[0;34m\u001b[0m\u001b[0;34m\u001b[0m\u001b[0m\n\u001b[0;32m-> 1164\u001b[0;31m         \u001b[0;32mreturn\u001b[0m \u001b[0mfunc\u001b[0m\u001b[0;34m(\u001b[0m\u001b[0mx\u001b[0m\u001b[0;34m,\u001b[0m \u001b[0my\u001b[0m\u001b[0;34m,\u001b[0m \u001b[0mname\u001b[0m\u001b[0;34m=\u001b[0m\u001b[0mname\u001b[0m\u001b[0;34m)\u001b[0m\u001b[0;34m\u001b[0m\u001b[0;34m\u001b[0m\u001b[0m\n\u001b[0m\u001b[1;32m   1165\u001b[0m       \u001b[0;32mexcept\u001b[0m \u001b[0;34m(\u001b[0m\u001b[0mTypeError\u001b[0m\u001b[0;34m,\u001b[0m \u001b[0mValueError\u001b[0m\u001b[0;34m)\u001b[0m \u001b[0;32mas\u001b[0m \u001b[0me\u001b[0m\u001b[0;34m:\u001b[0m\u001b[0;34m\u001b[0m\u001b[0;34m\u001b[0m\u001b[0m\n\u001b[1;32m   1166\u001b[0m         \u001b[0;31m# Even if dispatching the op failed, the RHS may be a tensor aware\u001b[0m\u001b[0;34m\u001b[0m\u001b[0;34m\u001b[0m\u001b[0;34m\u001b[0m\u001b[0m\n",
            "\u001b[0;32m/usr/local/lib/python3.6/dist-packages/tensorflow/python/ops/math_ops.py\u001b[0m in \u001b[0;36m_mul_dispatch\u001b[0;34m(x, y, name)\u001b[0m\n\u001b[1;32m   1494\u001b[0m     \u001b[0;32mreturn\u001b[0m \u001b[0msparse_tensor\u001b[0m\u001b[0;34m.\u001b[0m\u001b[0mSparseTensor\u001b[0m\u001b[0;34m(\u001b[0m\u001b[0my\u001b[0m\u001b[0;34m.\u001b[0m\u001b[0mindices\u001b[0m\u001b[0;34m,\u001b[0m \u001b[0mnew_vals\u001b[0m\u001b[0;34m,\u001b[0m \u001b[0my\u001b[0m\u001b[0;34m.\u001b[0m\u001b[0mdense_shape\u001b[0m\u001b[0;34m)\u001b[0m\u001b[0;34m\u001b[0m\u001b[0;34m\u001b[0m\u001b[0m\n\u001b[1;32m   1495\u001b[0m   \u001b[0;32melse\u001b[0m\u001b[0;34m:\u001b[0m\u001b[0;34m\u001b[0m\u001b[0;34m\u001b[0m\u001b[0m\n\u001b[0;32m-> 1496\u001b[0;31m     \u001b[0;32mreturn\u001b[0m \u001b[0mmultiply\u001b[0m\u001b[0;34m(\u001b[0m\u001b[0mx\u001b[0m\u001b[0;34m,\u001b[0m \u001b[0my\u001b[0m\u001b[0;34m,\u001b[0m \u001b[0mname\u001b[0m\u001b[0;34m=\u001b[0m\u001b[0mname\u001b[0m\u001b[0;34m)\u001b[0m\u001b[0;34m\u001b[0m\u001b[0;34m\u001b[0m\u001b[0m\n\u001b[0m\u001b[1;32m   1497\u001b[0m \u001b[0;34m\u001b[0m\u001b[0m\n\u001b[1;32m   1498\u001b[0m \u001b[0;34m\u001b[0m\u001b[0m\n",
            "\u001b[0;32m/usr/local/lib/python3.6/dist-packages/tensorflow/python/util/dispatch.py\u001b[0m in \u001b[0;36mwrapper\u001b[0;34m(*args, **kwargs)\u001b[0m\n\u001b[1;32m    199\u001b[0m     \u001b[0;34m\"\"\"Call target, and fall back on dispatchers if there is a TypeError.\"\"\"\u001b[0m\u001b[0;34m\u001b[0m\u001b[0;34m\u001b[0m\u001b[0m\n\u001b[1;32m    200\u001b[0m     \u001b[0;32mtry\u001b[0m\u001b[0;34m:\u001b[0m\u001b[0;34m\u001b[0m\u001b[0;34m\u001b[0m\u001b[0m\n\u001b[0;32m--> 201\u001b[0;31m       \u001b[0;32mreturn\u001b[0m \u001b[0mtarget\u001b[0m\u001b[0;34m(\u001b[0m\u001b[0;34m*\u001b[0m\u001b[0margs\u001b[0m\u001b[0;34m,\u001b[0m \u001b[0;34m**\u001b[0m\u001b[0mkwargs\u001b[0m\u001b[0;34m)\u001b[0m\u001b[0;34m\u001b[0m\u001b[0;34m\u001b[0m\u001b[0m\n\u001b[0m\u001b[1;32m    202\u001b[0m     \u001b[0;32mexcept\u001b[0m \u001b[0;34m(\u001b[0m\u001b[0mTypeError\u001b[0m\u001b[0;34m,\u001b[0m \u001b[0mValueError\u001b[0m\u001b[0;34m)\u001b[0m\u001b[0;34m:\u001b[0m\u001b[0;34m\u001b[0m\u001b[0;34m\u001b[0m\u001b[0m\n\u001b[1;32m    203\u001b[0m       \u001b[0;31m# Note: convert_to_eager_tensor currently raises a ValueError, not a\u001b[0m\u001b[0;34m\u001b[0m\u001b[0;34m\u001b[0m\u001b[0;34m\u001b[0m\u001b[0m\n",
            "\u001b[0;32m/usr/local/lib/python3.6/dist-packages/tensorflow/python/ops/math_ops.py\u001b[0m in \u001b[0;36mmultiply\u001b[0;34m(x, y, name)\u001b[0m\n\u001b[1;32m    516\u001b[0m   \"\"\"\n\u001b[1;32m    517\u001b[0m \u001b[0;34m\u001b[0m\u001b[0m\n\u001b[0;32m--> 518\u001b[0;31m   \u001b[0;32mreturn\u001b[0m \u001b[0mgen_math_ops\u001b[0m\u001b[0;34m.\u001b[0m\u001b[0mmul\u001b[0m\u001b[0;34m(\u001b[0m\u001b[0mx\u001b[0m\u001b[0;34m,\u001b[0m \u001b[0my\u001b[0m\u001b[0;34m,\u001b[0m \u001b[0mname\u001b[0m\u001b[0;34m)\u001b[0m\u001b[0;34m\u001b[0m\u001b[0;34m\u001b[0m\u001b[0m\n\u001b[0m\u001b[1;32m    519\u001b[0m \u001b[0;34m\u001b[0m\u001b[0m\n\u001b[1;32m    520\u001b[0m \u001b[0;34m\u001b[0m\u001b[0m\n",
            "\u001b[0;32m/usr/local/lib/python3.6/dist-packages/tensorflow/python/ops/gen_math_ops.py\u001b[0m in \u001b[0;36mmul\u001b[0;34m(x, y, name)\u001b[0m\n\u001b[1;32m   6066\u001b[0m       \u001b[0;32mreturn\u001b[0m \u001b[0m_result\u001b[0m\u001b[0;34m\u001b[0m\u001b[0;34m\u001b[0m\u001b[0m\n\u001b[1;32m   6067\u001b[0m     \u001b[0;32mexcept\u001b[0m \u001b[0m_core\u001b[0m\u001b[0;34m.\u001b[0m\u001b[0m_NotOkStatusException\u001b[0m \u001b[0;32mas\u001b[0m \u001b[0me\u001b[0m\u001b[0;34m:\u001b[0m\u001b[0;34m\u001b[0m\u001b[0;34m\u001b[0m\u001b[0m\n\u001b[0;32m-> 6068\u001b[0;31m       \u001b[0m_ops\u001b[0m\u001b[0;34m.\u001b[0m\u001b[0mraise_from_not_ok_status\u001b[0m\u001b[0;34m(\u001b[0m\u001b[0me\u001b[0m\u001b[0;34m,\u001b[0m \u001b[0mname\u001b[0m\u001b[0;34m)\u001b[0m\u001b[0;34m\u001b[0m\u001b[0;34m\u001b[0m\u001b[0m\n\u001b[0m\u001b[1;32m   6069\u001b[0m     \u001b[0;32mexcept\u001b[0m \u001b[0m_core\u001b[0m\u001b[0;34m.\u001b[0m\u001b[0m_FallbackException\u001b[0m\u001b[0;34m:\u001b[0m\u001b[0;34m\u001b[0m\u001b[0;34m\u001b[0m\u001b[0m\n\u001b[1;32m   6070\u001b[0m       \u001b[0;32mpass\u001b[0m\u001b[0;34m\u001b[0m\u001b[0;34m\u001b[0m\u001b[0m\n",
            "\u001b[0;32m/usr/local/lib/python3.6/dist-packages/tensorflow/python/framework/ops.py\u001b[0m in \u001b[0;36mraise_from_not_ok_status\u001b[0;34m(e, name)\u001b[0m\n\u001b[1;32m   6860\u001b[0m   \u001b[0mmessage\u001b[0m \u001b[0;34m=\u001b[0m \u001b[0me\u001b[0m\u001b[0;34m.\u001b[0m\u001b[0mmessage\u001b[0m \u001b[0;34m+\u001b[0m \u001b[0;34m(\u001b[0m\u001b[0;34m\" name: \"\u001b[0m \u001b[0;34m+\u001b[0m \u001b[0mname\u001b[0m \u001b[0;32mif\u001b[0m \u001b[0mname\u001b[0m \u001b[0;32mis\u001b[0m \u001b[0;32mnot\u001b[0m \u001b[0;32mNone\u001b[0m \u001b[0;32melse\u001b[0m \u001b[0;34m\"\"\u001b[0m\u001b[0;34m)\u001b[0m\u001b[0;34m\u001b[0m\u001b[0;34m\u001b[0m\u001b[0m\n\u001b[1;32m   6861\u001b[0m   \u001b[0;31m# pylint: disable=protected-access\u001b[0m\u001b[0;34m\u001b[0m\u001b[0;34m\u001b[0m\u001b[0;34m\u001b[0m\u001b[0m\n\u001b[0;32m-> 6862\u001b[0;31m   \u001b[0msix\u001b[0m\u001b[0;34m.\u001b[0m\u001b[0mraise_from\u001b[0m\u001b[0;34m(\u001b[0m\u001b[0mcore\u001b[0m\u001b[0;34m.\u001b[0m\u001b[0m_status_to_exception\u001b[0m\u001b[0;34m(\u001b[0m\u001b[0me\u001b[0m\u001b[0;34m.\u001b[0m\u001b[0mcode\u001b[0m\u001b[0;34m,\u001b[0m \u001b[0mmessage\u001b[0m\u001b[0;34m)\u001b[0m\u001b[0;34m,\u001b[0m \u001b[0;32mNone\u001b[0m\u001b[0;34m)\u001b[0m\u001b[0;34m\u001b[0m\u001b[0;34m\u001b[0m\u001b[0m\n\u001b[0m\u001b[1;32m   6863\u001b[0m   \u001b[0;31m# pylint: enable=protected-access\u001b[0m\u001b[0;34m\u001b[0m\u001b[0;34m\u001b[0m\u001b[0;34m\u001b[0m\u001b[0m\n\u001b[1;32m   6864\u001b[0m \u001b[0;34m\u001b[0m\u001b[0m\n",
            "\u001b[0;32m/usr/local/lib/python3.6/dist-packages/six.py\u001b[0m in \u001b[0;36mraise_from\u001b[0;34m(value, from_value)\u001b[0m\n",
            "\u001b[0;31mInvalidArgumentError\u001b[0m: Incompatible shapes: [51,1,1,1] vs. [1,128,150,150,3] [Op:Mul]"
          ]
        }
      ]
    },
    {
      "cell_type": "code",
      "metadata": {
        "colab": {
          "base_uri": "https://localhost:8080/",
          "height": 219
        },
        "id": "dOX-4jvUg2tV",
        "outputId": "df75b93a-d6dc-4c17-84bf-9799860b5ff3"
      },
      "source": [
        "interpolated_images = interpolate_images(\n",
        "    baseline=baseline_im,\n",
        "    image=img_name_tensors['Fireboat'],\n",
        "    alphas=alphas)\n"
      ],
      "execution_count": 30,
      "outputs": [
        {
          "output_type": "error",
          "ename": "NameError",
          "evalue": "ignored",
          "traceback": [
            "\u001b[0;31m---------------------------------------------------------------------------\u001b[0m",
            "\u001b[0;31mNameError\u001b[0m                                 Traceback (most recent call last)",
            "\u001b[0;32m<ipython-input-30-02816bd74bb2>\u001b[0m in \u001b[0;36m<module>\u001b[0;34m()\u001b[0m\n\u001b[1;32m      1\u001b[0m interpolated_images = interpolate_images(\n\u001b[1;32m      2\u001b[0m     \u001b[0mbaseline\u001b[0m\u001b[0;34m=\u001b[0m\u001b[0mbaseline_im\u001b[0m\u001b[0;34m,\u001b[0m\u001b[0;34m\u001b[0m\u001b[0;34m\u001b[0m\u001b[0m\n\u001b[0;32m----> 3\u001b[0;31m     \u001b[0mimage\u001b[0m\u001b[0;34m=\u001b[0m\u001b[0mimg_name_tensors\u001b[0m\u001b[0;34m[\u001b[0m\u001b[0;34m'Fireboat'\u001b[0m\u001b[0;34m]\u001b[0m\u001b[0;34m,\u001b[0m\u001b[0;34m\u001b[0m\u001b[0;34m\u001b[0m\u001b[0m\n\u001b[0m\u001b[1;32m      4\u001b[0m     alphas=alphas)\n",
            "\u001b[0;31mNameError\u001b[0m: name 'img_name_tensors' is not defined"
          ]
        }
      ]
    }
  ]
}